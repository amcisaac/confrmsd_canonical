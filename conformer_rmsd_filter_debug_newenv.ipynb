{
 "cells": [
  {
   "cell_type": "code",
   "execution_count": 1,
   "id": "0cd87d6b-c46e-4313-9695-d2015bb46f6d",
   "metadata": {
    "execution": {
     "iopub.execute_input": "2024-08-20T20:02:55.105117Z",
     "iopub.status.busy": "2024-08-20T20:02:55.104138Z",
     "iopub.status.idle": "2024-08-20T20:02:57.168068Z",
     "shell.execute_reply": "2024-08-20T20:02:57.167554Z",
     "shell.execute_reply.started": "2024-08-20T20:02:55.105061Z"
    }
   },
   "outputs": [],
   "source": [
    "from openff.qcsubmit.results import OptimizationResultCollection\n",
    "from openff.qcsubmit.results.filters import ConformerRMSDFilter\n",
    "from openff.toolkit import Molecule, Topology, ForceField\n",
    "import copy, itertools"
   ]
  },
  {
   "cell_type": "code",
   "execution_count": 2,
   "id": "d6b2dd9e-7ebd-45dc-96be-98eaab77e9d7",
   "metadata": {
    "execution": {
     "iopub.execute_input": "2024-08-20T20:02:57.169850Z",
     "iopub.status.busy": "2024-08-20T20:02:57.169349Z",
     "iopub.status.idle": "2024-08-20T20:02:57.242379Z",
     "shell.execute_reply": "2024-08-20T20:02:57.241950Z",
     "shell.execute_reply.started": "2024-08-20T20:02:57.169832Z"
    },
    "jupyter": {
     "source_hidden": true
    }
   },
   "outputs": [],
   "source": [
    "from openff.qcsubmit.results.filters import ResultFilter, SinglepointRecordFilter, SinglepointRecordGroupFilter\n",
    "from typing import List, Optional, Set, Tuple, TypeVar, Union\n",
    "from openff.qcsubmit._pydantic import (\n",
    "    BaseModel,\n",
    "    Field,\n",
    "    PrivateAttr,\n",
    "    root_validator,\n",
    "    validator,\n",
    ")\n",
    "from qcportal.optimization import OptimizationRecord\n",
    "from qcportal.record_models import BaseRecord, RecordStatusEnum\n",
    "from qcportal.singlepoint import SinglepointRecord\n",
    "import numpy\n",
    "\n",
    "# Identicaly to ConformerRMSDFilter, but with the molecule's atoms being canonically ordered\n",
    "class ConformerRMSDFilterCanonical(SinglepointRecordGroupFilter):\n",
    "    \"\"\"A filter which will retain up to a maximum number of conformers for each unique\n",
    "    molecule (as determined by an entries InChI key) which are distinct to within a\n",
    "    specified RMSD tolerance.\n",
    "\n",
    "    Notes:\n",
    "        * This filter will only be applied to basic and optimization datasets.\n",
    "          Torsion drive datasets / entries will be skipped.\n",
    "        * A greedy selection algorithm is used to select conformers which are most\n",
    "          distinct in terms of their RMSD values.\n",
    "    \"\"\"\n",
    "\n",
    "    max_conformers: int = Field(\n",
    "        10,\n",
    "        description=\"The maximum number of conformers to retain for each unique molecule.\",\n",
    "    )\n",
    "\n",
    "    rmsd_tolerance: float = Field(\n",
    "        0.5,\n",
    "        description=\"The minimum RMSD [A] between two conformers for them to be \"\n",
    "        \"considered distinct.\",\n",
    "    )\n",
    "    heavy_atoms_only: bool = Field(\n",
    "        True,\n",
    "        description=\"Whether to only consider heavy atoms when computing the RMSD \"\n",
    "        \"between two conformers.\",\n",
    "    )\n",
    "    check_automorphs: bool = Field(\n",
    "        True,\n",
    "        description=\"Whether to consider automorphs when computing the RMSD between two \"\n",
    "        \"conformers. Setting this option to ``True`` may slow down the filter \"\n",
    "        \"considerably if ``heavy_atoms_only`` is set to ``False``.\",\n",
    "    )\n",
    "\n",
    "    def _compute_rmsd_matrix_rd(self, molecule: Molecule) -> numpy.ndarray:\n",
    "        \"\"\"Computes the RMSD between all conformers stored on a molecule using an RDKit\n",
    "        backend.\"\"\"\n",
    "\n",
    "        from rdkit import Chem\n",
    "        from rdkit.Chem import AllChem\n",
    "\n",
    "        rdkit_molecule: Chem.RWMol = molecule.to_rdkit()\n",
    "\n",
    "        if self.heavy_atoms_only:\n",
    "            rdkit_molecule = Chem.RemoveHs(rdkit_molecule)\n",
    "\n",
    "        n_conformers = len(molecule.conformers)\n",
    "        conformer_ids = [conf.GetId() for conf in rdkit_molecule.GetConformers()]\n",
    "\n",
    "        rmsd_matrix = numpy.zeros((n_conformers, n_conformers))\n",
    "\n",
    "        for i, j in itertools.combinations(conformer_ids, 2):\n",
    "            if self.check_automorphs:\n",
    "                rmsd_matrix[i, j] = AllChem.GetBestRMS(\n",
    "                    rdkit_molecule,\n",
    "                    rdkit_molecule,\n",
    "                    conformer_ids[i],\n",
    "                    conformer_ids[j],\n",
    "                )\n",
    "\n",
    "            else:\n",
    "                rmsd_matrix[i, j] = AllChem.GetConformerRMS(\n",
    "                    rdkit_molecule,\n",
    "                    conformer_ids[i],\n",
    "                    conformer_ids[j],\n",
    "                )\n",
    "\n",
    "        rmsd_matrix += rmsd_matrix.T\n",
    "        return rmsd_matrix\n",
    "\n",
    "    def _compute_rmsd_matrix_oe(self, molecule: Molecule) -> numpy.ndarray:\n",
    "        \"\"\"Computes the RMSD between all conformers stored on a molecule using an OpenEye\n",
    "        backend.\"\"\"\n",
    "\n",
    "        from openeye import oechem\n",
    "\n",
    "        oe_molecule: oechem.OEMol = molecule.to_openeye()\n",
    "        oe_conformers = {\n",
    "            i: oe_conformer for i, oe_conformer in enumerate(oe_molecule.GetConfs())\n",
    "        }\n",
    "\n",
    "        n_conformers = len(molecule.conformers)\n",
    "\n",
    "        rmsd_matrix = numpy.zeros((n_conformers, n_conformers))\n",
    "\n",
    "        for i, j in itertools.combinations([*oe_conformers], 2):\n",
    "            rmsd_matrix[i, j] = oechem.OERMSD(\n",
    "                oe_conformers[i],\n",
    "                oe_conformers[j],\n",
    "                self.check_automorphs,\n",
    "                self.heavy_atoms_only,\n",
    "                True,\n",
    "            )\n",
    "\n",
    "        rmsd_matrix += rmsd_matrix.T\n",
    "        return rmsd_matrix\n",
    "\n",
    "    def _compute_rmsd_matrix(self, molecule: Molecule) -> numpy.ndarray:\n",
    "        \"\"\"Computes the RMSD between all conformers stored on a molecule.\"\"\"\n",
    "\n",
    "        try:\n",
    "            rmsd_matrix = self._compute_rmsd_matrix_rd(molecule)\n",
    "        except ModuleNotFoundError:\n",
    "            rmsd_matrix = self._compute_rmsd_matrix_oe(molecule)\n",
    "\n",
    "        return rmsd_matrix\n",
    "\n",
    "    def _filter_function(\n",
    "        self,\n",
    "        entries: List[\n",
    "            Tuple[\n",
    "                \"_BaseResult\",\n",
    "                Union[SinglepointRecord, OptimizationRecord],\n",
    "                Molecule,\n",
    "                str,\n",
    "            ]\n",
    "        ],\n",
    "    ) -> List[Tuple[\"_BaseResult\", str]]:\n",
    "        # Sanity check that all molecules look as we expect.\n",
    "        assert all(molecule.n_conformers == 1 for _, _, molecule, _ in entries)\n",
    "\n",
    "        # Condense the conformers into a single molecule.\n",
    "        conformers = [\n",
    "            molecule.canonical_order_atoms().conformers[0]\n",
    "            for _, _, molecule, _ in entries\n",
    "        ]\n",
    "\n",
    "        [_, _, molecule, _] = entries[0]\n",
    "\n",
    "        molecule = copy.deepcopy(molecule.canonical_order_atoms())\n",
    "        molecule._conformers = conformers\n",
    "\n",
    "        rmsd_matrix = self._compute_rmsd_matrix(molecule)\n",
    "        # print(rmsd_matrix)\n",
    "\n",
    "        # Select a set N maximally diverse conformers which are distinct in terms\n",
    "        # of the RMSD tolerance.\n",
    "\n",
    "        # Apply the greedy selection process.\n",
    "        closed_list = numpy.zeros(self.max_conformers).astype(int)\n",
    "        closed_mask = numpy.zeros(rmsd_matrix.shape[0], dtype=bool)\n",
    "\n",
    "        n_selected = 1\n",
    "\n",
    "        for i in range(min(molecule.n_conformers, self.max_conformers - 1)):\n",
    "            distances = rmsd_matrix[closed_list[: i + 1], :].sum(axis=0)\n",
    "\n",
    "            # Exclude already selected conformers or conformers which are too similar\n",
    "            # to those already selected.\n",
    "            closed_mask[\n",
    "                numpy.any(\n",
    "                    rmsd_matrix[closed_list[: i + 1], :] < self.rmsd_tolerance, axis=0\n",
    "                )\n",
    "            ] = True\n",
    "\n",
    "            if numpy.all(closed_mask):\n",
    "                # Stop of there are no more distinct conformers to select from.\n",
    "                break\n",
    "\n",
    "            distant_index = numpy.ma.array(distances, mask=closed_mask).argmax()\n",
    "            closed_list[i + 1] = distant_index\n",
    "\n",
    "            n_selected += 1\n",
    "\n",
    "        return [\n",
    "            (entries[i.item()][0], entries[i.item()][-1])\n",
    "            for i in closed_list[:n_selected]\n",
    "        ]"
   ]
  },
  {
   "cell_type": "code",
   "execution_count": 3,
   "id": "1152d938-9c36-4e78-9fe6-e5236bb3f1ec",
   "metadata": {
    "execution": {
     "iopub.execute_input": "2024-08-20T20:02:57.243308Z",
     "iopub.status.busy": "2024-08-20T20:02:57.243030Z",
     "iopub.status.idle": "2024-08-20T20:02:57.247206Z",
     "shell.execute_reply": "2024-08-20T20:02:57.246729Z",
     "shell.execute_reply.started": "2024-08-20T20:02:57.243281Z"
    },
    "jupyter": {
     "source_hidden": true
    }
   },
   "outputs": [],
   "source": [
    "import numpy as np\n",
    "\n",
    "# This is just yoinked from ConformerRMSDFilter\n",
    "def rmsd_rdkit(molecule,check_automorphs,heavy_atoms_only):\n",
    "\n",
    "    from rdkit import Chem\n",
    "    from rdkit.Chem import AllChem\n",
    "\n",
    "    rdkit_molecule: Chem.RWMol = molecule.to_rdkit()\n",
    "\n",
    "    if heavy_atoms_only:\n",
    "        rdkit_molecule = Chem.RemoveHs(rdkit_molecule)\n",
    "\n",
    "    n_conformers = len(molecule.conformers)\n",
    "    conformer_ids = [conf.GetId() for conf in rdkit_molecule.GetConformers()]\n",
    "\n",
    "    rmsd_matrix = np.zeros((n_conformers, n_conformers))\n",
    "\n",
    "    for i, j in itertools.combinations(conformer_ids, 2):\n",
    "        if check_automorphs:\n",
    "            rmsd_matrix[i, j] = AllChem.GetBestRMS(\n",
    "                rdkit_molecule,\n",
    "                rdkit_molecule,\n",
    "                conformer_ids[i],\n",
    "                conformer_ids[j],\n",
    "            )\n",
    "\n",
    "        else:\n",
    "            rmsd_matrix[i, j] = AllChem.GetConformerRMS(\n",
    "                rdkit_molecule,\n",
    "                conformer_ids[i],\n",
    "                conformer_ids[j],\n",
    "            )\n",
    "\n",
    "    rmsd_matrix += rmsd_matrix.T\n",
    "    return rmsd_matrix"
   ]
  },
  {
   "cell_type": "markdown",
   "id": "d63ffc05-afd8-4843-9290-328e83dcfaa4",
   "metadata": {},
   "source": [
    "# Training dataset"
   ]
  },
  {
   "cell_type": "code",
   "execution_count": 6,
   "id": "7c59a20d-c0a4-4ca1-b2c6-7738aa783d16",
   "metadata": {
    "execution": {
     "iopub.execute_input": "2024-08-20T20:03:04.106363Z",
     "iopub.status.busy": "2024-08-20T20:03:04.102395Z",
     "iopub.status.idle": "2024-08-20T20:03:04.172328Z",
     "shell.execute_reply": "2024-08-20T20:03:04.171826Z",
     "shell.execute_reply.started": "2024-08-20T20:03:04.106168Z"
    }
   },
   "outputs": [],
   "source": [
    "# Using new environment\n",
    "sage_220_training = OptimizationResultCollection.parse_file('./02_curate-data/output/optimization-training-set-nocanon_newqcp.json')"
   ]
  },
  {
   "cell_type": "code",
   "execution_count": 5,
   "id": "432d4558-cbd0-46e3-8f27-88f333b0abe3",
   "metadata": {
    "execution": {
     "iopub.execute_input": "2024-08-20T20:02:57.309368Z",
     "iopub.status.busy": "2024-08-20T20:02:57.309117Z",
     "iopub.status.idle": "2024-08-20T20:02:57.356361Z",
     "shell.execute_reply": "2024-08-20T20:02:57.355957Z",
     "shell.execute_reply.started": "2024-08-20T20:02:57.309351Z"
    }
   },
   "outputs": [],
   "source": [
    "new_conf_filter_training = OptimizationResultCollection.parse_file('./02_curate-data/output/optimization-training-set.json')"
   ]
  },
  {
   "cell_type": "code",
   "execution_count": 7,
   "id": "ed3200c6-044f-43fc-a3e3-c209fa1bf3e5",
   "metadata": {
    "execution": {
     "iopub.execute_input": "2024-08-20T20:03:08.258080Z",
     "iopub.status.busy": "2024-08-20T20:03:08.257234Z",
     "iopub.status.idle": "2024-08-20T20:03:08.271516Z",
     "shell.execute_reply": "2024-08-20T20:03:08.268510Z",
     "shell.execute_reply.started": "2024-08-20T20:03:08.258030Z"
    }
   },
   "outputs": [
    {
     "name": "stdout",
     "output_type": "stream",
     "text": [
      "1607 5119\n",
      "1607 5114\n"
     ]
    }
   ],
   "source": [
    "print(sage_220_training.n_molecules,sage_220_training.n_results)\n",
    "print(new_conf_filter_training.n_molecules,new_conf_filter_training.n_results)"
   ]
  },
  {
   "cell_type": "code",
   "execution_count": 8,
   "id": "2ed53b2b-e64c-48ea-8d5e-dc7738d3daa6",
   "metadata": {
    "execution": {
     "iopub.execute_input": "2024-08-20T20:03:09.541562Z",
     "iopub.status.busy": "2024-08-20T20:03:09.540435Z",
     "iopub.status.idle": "2024-08-20T20:03:09.560238Z",
     "shell.execute_reply": "2024-08-20T20:03:09.559579Z",
     "shell.execute_reply.started": "2024-08-20T20:03:09.541496Z"
    },
    "scrolled": true
   },
   "outputs": [],
   "source": [
    "qcaids_newfilter = [entry.record_id for entry in new_conf_filter_training.entries['https://api.qcarchive.molssi.org:443/']]"
   ]
  },
  {
   "cell_type": "code",
   "execution_count": 9,
   "id": "81da7d44-e74e-4e02-9f72-2dd17469bda5",
   "metadata": {
    "execution": {
     "iopub.execute_input": "2024-08-20T20:03:09.659799Z",
     "iopub.status.busy": "2024-08-20T20:03:09.658888Z",
     "iopub.status.idle": "2024-08-20T20:03:09.674937Z",
     "shell.execute_reply": "2024-08-20T20:03:09.673890Z",
     "shell.execute_reply.started": "2024-08-20T20:03:09.659721Z"
    }
   },
   "outputs": [],
   "source": [
    "qcaids_oldfilter = [entry.record_id for entry in sage_220_training.entries['https://api.qcarchive.molssi.org:443/']]"
   ]
  },
  {
   "cell_type": "code",
   "execution_count": 10,
   "id": "97462f7f-16f2-4877-8f95-602a88f71896",
   "metadata": {
    "execution": {
     "iopub.execute_input": "2024-08-20T20:03:11.211846Z",
     "iopub.status.busy": "2024-08-20T20:03:11.210315Z",
     "iopub.status.idle": "2024-08-20T20:03:11.227021Z",
     "shell.execute_reply": "2024-08-20T20:03:11.226492Z",
     "shell.execute_reply.started": "2024-08-20T20:03:11.211764Z"
    }
   },
   "outputs": [
    {
     "data": {
      "text/plain": [
       "5113"
      ]
     },
     "execution_count": 10,
     "metadata": {},
     "output_type": "execute_result"
    }
   ],
   "source": [
    "qcaids_both = np.isin(qcaids_oldfilter,qcaids_newfilter)\n",
    "np.count_nonzero(qcaids_both)"
   ]
  },
  {
   "cell_type": "code",
   "execution_count": 11,
   "id": "a22279ca-dd95-40c8-aaee-5314641aae49",
   "metadata": {
    "execution": {
     "iopub.execute_input": "2024-08-20T20:03:13.646328Z",
     "iopub.status.busy": "2024-08-20T20:03:13.645023Z",
     "iopub.status.idle": "2024-08-20T20:03:13.665987Z",
     "shell.execute_reply": "2024-08-20T20:03:13.664959Z",
     "shell.execute_reply.started": "2024-08-20T20:03:13.646206Z"
    }
   },
   "outputs": [
    {
     "data": {
      "text/plain": [
       "6"
      ]
     },
     "execution_count": 11,
     "metadata": {},
     "output_type": "execute_result"
    }
   ],
   "source": [
    "qcaids_oldonly = np.logical_not(np.isin(qcaids_oldfilter,qcaids_newfilter))\n",
    "np.count_nonzero(qcaids_oldonly)"
   ]
  },
  {
   "cell_type": "code",
   "execution_count": 12,
   "id": "62437234-70a3-4da8-a269-400e1616e29f",
   "metadata": {
    "execution": {
     "iopub.execute_input": "2024-08-20T20:03:13.858546Z",
     "iopub.status.busy": "2024-08-20T20:03:13.856385Z",
     "iopub.status.idle": "2024-08-20T20:03:13.873879Z",
     "shell.execute_reply": "2024-08-20T20:03:13.873003Z",
     "shell.execute_reply.started": "2024-08-20T20:03:13.858440Z"
    }
   },
   "outputs": [
    {
     "data": {
      "text/plain": [
       "1"
      ]
     },
     "execution_count": 12,
     "metadata": {},
     "output_type": "execute_result"
    }
   ],
   "source": [
    "qcaids_newonly = np.logical_not(np.isin(qcaids_newfilter,qcaids_oldfilter))\n",
    "np.count_nonzero(qcaids_newonly)"
   ]
  },
  {
   "cell_type": "markdown",
   "id": "58f62485-d152-48c2-acb2-3c479d163719",
   "metadata": {},
   "source": [
    "6 conformers were removed with the new filter, and 1 new ones were added. This should reflect both conformers that were erroneously kept due to the atom mis-ordering, as well as conformers that were not correctly selected to represent the most diverse options."
   ]
  },
  {
   "cell_type": "markdown",
   "id": "b75f4b22-6deb-460e-a526-88795da76e90",
   "metadata": {},
   "source": [
    "## Look at the filtered molecules"
   ]
  },
  {
   "cell_type": "markdown",
   "id": "3eef33cc-4560-49d1-8424-999c6fd5ea0c",
   "metadata": {},
   "source": [
    "### Comparing the number of conformers that appear only with the old filter, vs only with the new filter."
   ]
  },
  {
   "cell_type": "code",
   "execution_count": 13,
   "id": "ab70d320-588e-485c-a3aa-b6fe568b86ff",
   "metadata": {
    "execution": {
     "iopub.execute_input": "2024-08-20T20:03:41.755097Z",
     "iopub.status.busy": "2024-08-20T20:03:41.753842Z",
     "iopub.status.idle": "2024-08-20T20:03:41.774073Z",
     "shell.execute_reply": "2024-08-20T20:03:41.772143Z",
     "shell.execute_reply.started": "2024-08-20T20:03:41.755030Z"
    }
   },
   "outputs": [],
   "source": [
    "qcaids_oldonly_ids = np.array(qcaids_oldfilter)[qcaids_oldonly]\n",
    "qcaids_newonly_ids = np.array(qcaids_newfilter)[qcaids_newonly]"
   ]
  },
  {
   "cell_type": "code",
   "execution_count": 14,
   "id": "d4dc9d80-e24d-4f6d-9a51-069ab3e70039",
   "metadata": {
    "execution": {
     "iopub.execute_input": "2024-08-20T20:03:41.899677Z",
     "iopub.status.busy": "2024-08-20T20:03:41.898208Z",
     "iopub.status.idle": "2024-08-20T20:03:43.928717Z",
     "shell.execute_reply": "2024-08-20T20:03:43.927988Z",
     "shell.execute_reply.started": "2024-08-20T20:03:41.899609Z"
    }
   },
   "outputs": [],
   "source": [
    "entries_oldonly = [entry for entry in sage_220_training.entries['https://api.qcarchive.molssi.org:443/'] if entry.record_id in qcaids_oldonly_ids]\n",
    "ds_oldonly = OptimizationResultCollection.parse_obj({'entries':{'https://api.qcarchive.molssi.org:443/':entries_oldonly}})\n",
    "records_oldonly = ds_oldonly.to_records()"
   ]
  },
  {
   "cell_type": "code",
   "execution_count": 15,
   "id": "537e3c38-e9c7-433f-8b76-8385e735d79f",
   "metadata": {
    "execution": {
     "iopub.execute_input": "2024-08-20T20:03:43.930645Z",
     "iopub.status.busy": "2024-08-20T20:03:43.930366Z",
     "iopub.status.idle": "2024-08-20T20:03:44.645239Z",
     "shell.execute_reply": "2024-08-20T20:03:44.644317Z",
     "shell.execute_reply.started": "2024-08-20T20:03:43.930623Z"
    }
   },
   "outputs": [],
   "source": [
    "entries_newonly = [entry for entry in new_conf_filter_training.entries['https://api.qcarchive.molssi.org:443/'] if entry.record_id in qcaids_newonly_ids]\n",
    "ds_newonly = OptimizationResultCollection.parse_obj({'entries':{'https://api.qcarchive.molssi.org:443/':entries_newonly}})\n",
    "records_newonly = ds_newonly.to_records()"
   ]
  },
  {
   "cell_type": "code",
   "execution_count": 16,
   "id": "c8f1a1d7-3ffb-4a79-9965-2b0b80cffe87",
   "metadata": {
    "execution": {
     "iopub.execute_input": "2024-08-20T20:03:44.647120Z",
     "iopub.status.busy": "2024-08-20T20:03:44.646555Z",
     "iopub.status.idle": "2024-08-20T20:03:44.651772Z",
     "shell.execute_reply": "2024-08-20T20:03:44.650669Z",
     "shell.execute_reply.started": "2024-08-20T20:03:44.647085Z"
    },
    "scrolled": true
   },
   "outputs": [],
   "source": [
    "inchis_newonly = [entry.inchi_key for entry in entries_newonly]\n",
    "inchis_oldonly = [entry.inchi_key for entry in entries_oldonly]"
   ]
  },
  {
   "cell_type": "code",
   "execution_count": 17,
   "id": "24cb52f6-432f-4d18-b82c-dfb9a29d7699",
   "metadata": {
    "execution": {
     "iopub.execute_input": "2024-08-20T20:03:45.179801Z",
     "iopub.status.busy": "2024-08-20T20:03:45.178367Z",
     "iopub.status.idle": "2024-08-20T20:03:45.189887Z",
     "shell.execute_reply": "2024-08-20T20:03:45.188272Z",
     "shell.execute_reply.started": "2024-08-20T20:03:45.179716Z"
    }
   },
   "outputs": [],
   "source": [
    "oldonly_count = {i:inchis_oldonly.count(i) for i in inchis_oldonly}\n",
    "newonly_count = {i:inchis_newonly.count(i) for i in inchis_newonly}"
   ]
  },
  {
   "cell_type": "code",
   "execution_count": 18,
   "id": "9ca09ebf-d32f-4745-baf1-ca406ca289aa",
   "metadata": {
    "execution": {
     "iopub.execute_input": "2024-08-20T20:03:45.381522Z",
     "iopub.status.busy": "2024-08-20T20:03:45.380328Z",
     "iopub.status.idle": "2024-08-20T20:03:45.397958Z",
     "shell.execute_reply": "2024-08-20T20:03:45.397029Z",
     "shell.execute_reply.started": "2024-08-20T20:03:45.381444Z"
    }
   },
   "outputs": [
    {
     "name": "stdout",
     "output_type": "stream",
     "text": [
      "InChI Key          N_new_only N_old_only\n",
      "BMAMZZAGBSHIHM-XGRDREAVNA-O 1 1\n",
      "[]\n"
     ]
    }
   ],
   "source": [
    "not_one_to_one_new = []\n",
    "print(\"InChI Key         \",\"N_new_only\",\"N_old_only\")\n",
    "for key in newonly_count.keys():\n",
    "    try:\n",
    "        print(key,newonly_count[key],oldonly_count[key])\n",
    "        if newonly_count[key] != oldonly_count[key]:\n",
    "            not_one_to_one_new.append(key)\n",
    "    except KeyError:\n",
    "        print(key,newonly_count[key])\n",
    "        not_one_to_one_new.append(key)\n",
    "\n",
    "print(not_one_to_one_new)"
   ]
  },
  {
   "cell_type": "markdown",
   "id": "84cb8b4d-7680-485d-b046-37a59420fb98",
   "metadata": {},
   "source": [
    "Here we look at conformers that appear only in the new filter's results. The only result here is one where one conformer was eliminated and one new one was added to replace it. This is probably due to the diversity metric."
   ]
  },
  {
   "cell_type": "code",
   "execution_count": 20,
   "id": "47c3f3f2-5ea0-47c5-be1c-b9b52365c2b9",
   "metadata": {
    "execution": {
     "iopub.execute_input": "2024-08-20T20:04:37.664034Z",
     "iopub.status.busy": "2024-08-20T20:04:37.662494Z",
     "iopub.status.idle": "2024-08-20T20:04:37.680143Z",
     "shell.execute_reply": "2024-08-20T20:04:37.678841Z",
     "shell.execute_reply.started": "2024-08-20T20:04:37.663954Z"
    }
   },
   "outputs": [
    {
     "name": "stdout",
     "output_type": "stream",
     "text": [
      "InChI Key          N_new_only N_old_only\n",
      "RORAOHDOEDEVOG-YHMJCDSINA-N   1\n",
      "IWKUWQHVHPGHMC-JDBSGULFNA-N   2\n",
      "DTBNBXWJWCWCIK-HOVPBEAZNA-K   1\n",
      "WUAGPRSQTJSTRA-QVNRZVRXNA-M   1\n",
      "BMAMZZAGBSHIHM-XGRDREAVNA-O 1 1\n",
      "['RORAOHDOEDEVOG-YHMJCDSINA-N', 'IWKUWQHVHPGHMC-JDBSGULFNA-N', 'DTBNBXWJWCWCIK-HOVPBEAZNA-K', 'WUAGPRSQTJSTRA-QVNRZVRXNA-M']\n"
     ]
    }
   ],
   "source": [
    "not_one_to_one_old = []\n",
    "print(\"InChI Key         \",\"N_new_only\",\"N_old_only\")\n",
    "for key in oldonly_count.keys():\n",
    "    try:\n",
    "        print(key,newonly_count[key],oldonly_count[key])\n",
    "        if newonly_count[key] != oldonly_count[key]:\n",
    "            not_one_to_one_old.append(key)\n",
    "    except KeyError:\n",
    "        print(key,' ',oldonly_count[key])\n",
    "        not_one_to_one_old.append(key)\n",
    "\n",
    "print(not_one_to_one_old)"
   ]
  },
  {
   "cell_type": "markdown",
   "id": "f441a365-3f09-488e-880f-b60af9903c92",
   "metadata": {},
   "source": [
    "Most of the conformers that only appear in the old dataset were not replaced by anything in the new dataset, suggesting they were filtered out for being too similar to other conformers."
   ]
  },
  {
   "cell_type": "markdown",
   "id": "21961246-39ce-41fb-87e4-308873ad303c",
   "metadata": {},
   "source": [
    "### Compare the actual conformers that were eliminated\n",
    "Now we are moving to looking at all conformers for a given molecule that was affected by the filter. "
   ]
  },
  {
   "cell_type": "code",
   "execution_count": 21,
   "id": "98e9e82e-2154-48c2-97d2-741e7250c082",
   "metadata": {
    "execution": {
     "iopub.execute_input": "2024-08-20T20:05:08.156765Z",
     "iopub.status.busy": "2024-08-20T20:05:08.155238Z",
     "iopub.status.idle": "2024-08-20T20:05:12.578415Z",
     "shell.execute_reply": "2024-08-20T20:05:12.577961Z",
     "shell.execute_reply.started": "2024-08-20T20:05:08.156687Z"
    }
   },
   "outputs": [],
   "source": [
    "all_entries_oldonly = [entry for entry in sage_220_training.entries['https://api.qcarchive.molssi.org:443/'] if entry.inchi_key in oldonly_count.keys()]\n",
    "all_ds_oldonly = OptimizationResultCollection.parse_obj({'entries':{'https://api.qcarchive.molssi.org:443/':all_entries_oldonly}})\n",
    "all_records_oldonly = all_ds_oldonly.to_records()"
   ]
  },
  {
   "cell_type": "code",
   "execution_count": 22,
   "id": "093e2fe6-39be-42db-bc54-a5313b974247",
   "metadata": {
    "execution": {
     "iopub.execute_input": "2024-08-20T20:05:12.579542Z",
     "iopub.status.busy": "2024-08-20T20:05:12.579398Z",
     "iopub.status.idle": "2024-08-20T20:05:14.513407Z",
     "shell.execute_reply": "2024-08-20T20:05:14.512825Z",
     "shell.execute_reply.started": "2024-08-20T20:05:12.579529Z"
    }
   },
   "outputs": [],
   "source": [
    "all_entries_newonly = [entry for entry in new_conf_filter_training.entries['https://api.qcarchive.molssi.org:443/'] if entry.inchi_key in newonly_count.keys()]\n",
    "all_ds_newonly = OptimizationResultCollection.parse_obj({'entries':{'https://api.qcarchive.molssi.org:443/':all_entries_newonly}})\n",
    "all_records_newonly = all_ds_newonly.to_records()"
   ]
  },
  {
   "cell_type": "code",
   "execution_count": 23,
   "id": "0f063c70-0e1d-4b0d-936b-150ff0cfefcd",
   "metadata": {
    "execution": {
     "iopub.execute_input": "2024-08-20T20:05:14.514384Z",
     "iopub.status.busy": "2024-08-20T20:05:14.514201Z",
     "iopub.status.idle": "2024-08-20T20:05:17.808937Z",
     "shell.execute_reply": "2024-08-20T20:05:17.808373Z",
     "shell.execute_reply.started": "2024-08-20T20:05:14.514366Z"
    }
   },
   "outputs": [],
   "source": [
    "all_entries_oldonly_newds = [entry for entry in new_conf_filter_training.entries['https://api.qcarchive.molssi.org:443/'] if entry.inchi_key in oldonly_count.keys()]\n",
    "all_ds_oldonly_newds = OptimizationResultCollection.parse_obj({'entries':{'https://api.qcarchive.molssi.org:443/':all_entries_oldonly_newds}})\n",
    "all_records_oldonly_newds = all_ds_oldonly_newds.to_records()"
   ]
  },
  {
   "cell_type": "code",
   "execution_count": 24,
   "id": "def28b0e-3648-4ec4-b021-7778c6ceca26",
   "metadata": {
    "execution": {
     "iopub.execute_input": "2024-08-20T20:05:17.810829Z",
     "iopub.status.busy": "2024-08-20T20:05:17.810374Z",
     "iopub.status.idle": "2024-08-20T20:05:19.721271Z",
     "shell.execute_reply": "2024-08-20T20:05:19.720768Z",
     "shell.execute_reply.started": "2024-08-20T20:05:17.810812Z"
    }
   },
   "outputs": [],
   "source": [
    "all_entries_newonly_oldds = [entry for entry in sage_220_training.entries['https://api.qcarchive.molssi.org:443/'] if entry.inchi_key in newonly_count.keys()]\n",
    "all_ds_newonly_oldds = OptimizationResultCollection.parse_obj({'entries':{'https://api.qcarchive.molssi.org:443/':all_entries_newonly_oldds}})\n",
    "all_records_newonly_oldds = all_ds_newonly_oldds.to_records()"
   ]
  },
  {
   "cell_type": "code",
   "execution_count": 25,
   "id": "e2622c7a-992b-40b5-8caa-6fbf58a3fe56",
   "metadata": {
    "execution": {
     "iopub.execute_input": "2024-08-20T20:05:19.722065Z",
     "iopub.status.busy": "2024-08-20T20:05:19.721891Z",
     "iopub.status.idle": "2024-08-20T20:05:19.726210Z",
     "shell.execute_reply": "2024-08-20T20:05:19.725749Z",
     "shell.execute_reply.started": "2024-08-20T20:05:19.722048Z"
    }
   },
   "outputs": [],
   "source": [
    "def group_by_smiles(records,ds):\n",
    "    mol_by_smiles = {}\n",
    "    for record in records:\n",
    "        recordid = record[0].id\n",
    "        ds_entry = [entry for entry in ds.entries['https://api.qcarchive.molssi.org:443/'] if entry.record_id == recordid]\n",
    "        if len(ds_entry) > 1:\n",
    "            print(recordid)\n",
    "        inchi_key = ds_entry[0].inchi_key\n",
    "        # smiles = record[1].to_smiles()\n",
    "        if inchi_key in mol_by_smiles:\n",
    "            mol_by_smiles[inchi_key].add_conformer(record[1].canonical_order_atoms().conformers[0])\n",
    "        else:\n",
    "            mol_by_smiles[inchi_key] = copy.deepcopy(record[1].canonical_order_atoms())\n",
    "    return mol_by_smiles"
   ]
  },
  {
   "cell_type": "code",
   "execution_count": 26,
   "id": "b6fab7bb-6791-4881-85be-9aa48e2e2c5d",
   "metadata": {
    "execution": {
     "iopub.execute_input": "2024-08-20T20:05:19.727193Z",
     "iopub.status.busy": "2024-08-20T20:05:19.727025Z",
     "iopub.status.idle": "2024-08-20T20:05:19.844638Z",
     "shell.execute_reply": "2024-08-20T20:05:19.844263Z",
     "shell.execute_reply.started": "2024-08-20T20:05:19.727177Z"
    }
   },
   "outputs": [],
   "source": [
    "oldonly_mols = group_by_smiles(all_records_oldonly,sage_220_training)\n",
    "newonly_mols = group_by_smiles(all_records_newonly,new_conf_filter_training)"
   ]
  },
  {
   "cell_type": "code",
   "execution_count": 27,
   "id": "08973155-5bc1-42df-bb39-f0db9d9904e3",
   "metadata": {
    "execution": {
     "iopub.execute_input": "2024-08-20T20:05:19.845302Z",
     "iopub.status.busy": "2024-08-20T20:05:19.845182Z",
     "iopub.status.idle": "2024-08-20T20:05:19.935772Z",
     "shell.execute_reply": "2024-08-20T20:05:19.935387Z",
     "shell.execute_reply.started": "2024-08-20T20:05:19.845290Z"
    }
   },
   "outputs": [],
   "source": [
    "oldonly_mols_newds = group_by_smiles(all_records_oldonly_newds,new_conf_filter_training)\n",
    "newonly_mols_oldds = group_by_smiles(all_records_newonly_oldds,sage_220_training)"
   ]
  },
  {
   "cell_type": "code",
   "execution_count": 28,
   "id": "373723b7-b463-4d2e-989c-bb2556c53108",
   "metadata": {
    "execution": {
     "iopub.execute_input": "2024-08-20T20:05:19.936411Z",
     "iopub.status.busy": "2024-08-20T20:05:19.936292Z",
     "iopub.status.idle": "2024-08-20T20:05:19.939187Z",
     "shell.execute_reply": "2024-08-20T20:05:19.938841Z",
     "shell.execute_reply.started": "2024-08-20T20:05:19.936398Z"
    }
   },
   "outputs": [
    {
     "data": {
      "text/plain": [
       "5"
      ]
     },
     "execution_count": 28,
     "metadata": {},
     "output_type": "execute_result"
    }
   ],
   "source": [
    "len(oldonly_mols.keys())"
   ]
  },
  {
   "cell_type": "code",
   "execution_count": 29,
   "id": "ea0e1cb8-1d9b-421e-869d-b02ee3d37ff7",
   "metadata": {
    "execution": {
     "iopub.execute_input": "2024-08-20T20:05:19.939773Z",
     "iopub.status.busy": "2024-08-20T20:05:19.939647Z",
     "iopub.status.idle": "2024-08-20T20:05:19.942648Z",
     "shell.execute_reply": "2024-08-20T20:05:19.942263Z",
     "shell.execute_reply.started": "2024-08-20T20:05:19.939761Z"
    }
   },
   "outputs": [
    {
     "data": {
      "text/plain": [
       "1"
      ]
     },
     "execution_count": 29,
     "metadata": {},
     "output_type": "execute_result"
    }
   ],
   "source": [
    "len(newonly_mols.keys())"
   ]
  },
  {
   "cell_type": "code",
   "execution_count": 30,
   "id": "0dfa1461-dbe7-417d-936b-ef1b0e64c720",
   "metadata": {
    "execution": {
     "iopub.execute_input": "2024-08-20T20:05:19.944850Z",
     "iopub.status.busy": "2024-08-20T20:05:19.944640Z",
     "iopub.status.idle": "2024-08-20T20:05:20.131351Z",
     "shell.execute_reply": "2024-08-20T20:05:20.130994Z",
     "shell.execute_reply.started": "2024-08-20T20:05:19.944837Z"
    }
   },
   "outputs": [
    {
     "name": "stdout",
     "output_type": "stream",
     "text": [
      "RORAOHDOEDEVOG-YHMJCDSINA-N 3\n",
      "RMSD using old filter:\n",
      " [[0.         0.5594225  0.60866356]\n",
      " [0.5594225  0.         0.11116209]\n",
      " [0.60866356 0.11116209 0.        ]]\n",
      "RMSD using new filter:\n",
      " [[0.         0.60866356]\n",
      " [0.60866356 0.        ]]\n",
      "\n",
      "IWKUWQHVHPGHMC-JDBSGULFNA-N 4\n",
      "RMSD using old filter:\n",
      " [[0.         2.0359773  0.04711509 2.00589999]\n",
      " [2.0359773  0.         2.06076145 0.05154587]\n",
      " [0.04711509 2.06076145 0.         2.03106422]\n",
      " [2.00589999 0.05154587 2.03106422 0.        ]]\n",
      "RMSD using new filter:\n",
      " [[0.        2.0359773]\n",
      " [2.0359773 0.       ]]\n",
      "\n",
      "DTBNBXWJWCWCIK-HOVPBEAZNA-K 2\n",
      "RMSD using old filter:\n",
      " [[0.         0.00026277]\n",
      " [0.00026277 0.        ]]\n",
      "RMSD using new filter:\n",
      " [[0.]]\n",
      "\n",
      "WUAGPRSQTJSTRA-QVNRZVRXNA-M 2\n",
      "RMSD using old filter:\n",
      " [[0.         0.00015141]\n",
      " [0.00015141 0.        ]]\n",
      "RMSD using new filter:\n",
      " [[0.]]\n",
      "\n",
      "BMAMZZAGBSHIHM-XGRDREAVNA-O 6\n",
      "RMSD using old filter:\n",
      " [[0.         1.58266772 1.45507043 0.86227238 1.32501792 0.89907329]\n",
      " [1.58266772 0.         0.90792318 1.46781972 0.54185389 1.31072355]\n",
      " [1.45507043 0.90792318 0.         1.0424756  1.0085559  1.09390175]\n",
      " [0.86227238 1.46781972 1.0424756  0.         1.3709907  0.53097062]\n",
      " [1.32501792 0.54185389 1.0085559  1.3709907  0.         1.23448639]\n",
      " [0.89907329 1.31072355 1.09390175 0.53097062 1.23448639 0.        ]]\n",
      "RMSD using new filter:\n",
      " [[0.         1.58266772 1.45507043 0.86227238 1.32521201 0.89907329]\n",
      " [1.58266772 0.         0.90792318 1.46781972 0.541909   1.31072355]\n",
      " [1.45507043 0.90792318 0.         1.0424756  1.00847174 1.09390175]\n",
      " [0.86227238 1.46781972 1.0424756  0.         1.37095599 0.53097062]\n",
      " [1.32521201 0.541909   1.00847174 1.37095599 0.         1.23443102]\n",
      " [0.89907329 1.31072355 1.09390175 0.53097062 1.23443102 0.        ]]\n",
      "Difference in RMSD:\n",
      " [[ 0.00000000e+00  0.00000000e+00  0.00000000e+00  0.00000000e+00\n",
      "  -1.94089751e-04  9.65894031e-15]\n",
      " [ 0.00000000e+00  0.00000000e+00  0.00000000e+00  0.00000000e+00\n",
      "  -5.51144290e-05 -1.77635684e-15]\n",
      " [ 0.00000000e+00  0.00000000e+00  0.00000000e+00  0.00000000e+00\n",
      "   8.41601648e-05  1.79856130e-14]\n",
      " [ 0.00000000e+00  0.00000000e+00  0.00000000e+00  0.00000000e+00\n",
      "   3.47098426e-05  2.33146835e-14]\n",
      " [-1.94089751e-04 -5.51144290e-05  8.41601648e-05  3.47098426e-05\n",
      "   0.00000000e+00  5.53670775e-05]\n",
      " [ 9.65894031e-15 -1.77635684e-15  1.79856130e-14  2.33146835e-14\n",
      "   5.53670775e-05  0.00000000e+00]]\n",
      "\n"
     ]
    }
   ],
   "source": [
    "for key in oldonly_mols.keys():\n",
    "    print(key,oldonly_mols[key].n_conformers)\n",
    "    print('RMSD using old filter:\\n',rmsd_rdkit(oldonly_mols[key],True,True))\n",
    "    try:\n",
    "        print('RMSD using new filter:\\n',rmsd_rdkit(oldonly_mols_newds[key],True,True))\n",
    "        if rmsd_rdkit(oldonly_mols[key],True,True).shape == rmsd_rdkit(oldonly_mols_newds[key],True,True).shape and oldonly_mols[key].n_conformers>1:\n",
    "            print('Difference in RMSD:\\n',rmsd_rdkit(oldonly_mols[key],True,True) - rmsd_rdkit(oldonly_mols_newds[key],True,True))\n",
    "        elif oldonly_mols[key].n_conformers == 1 and oldonly_mols[key].n_conformers == oldonly_mols_newds[key].n_conformers:\n",
    "            print('RMSD between old and new conformer:')\n",
    "            new_mol = copy.deepcopy(oldonly_mols[key])\n",
    "            new_mol._conformers += oldonly_mols_newds[key]._conformers\n",
    "            print(rmsd_rdkit(new_mol,True,True)[1,0])\n",
    "    \n",
    "    except KeyError:\n",
    "        print(\"Not in new dataset\")\n",
    "    print()"
   ]
  },
  {
   "cell_type": "markdown",
   "id": "d869775e-96bc-4528-b073-67087dd2e2cd",
   "metadata": {},
   "source": [
    "4 molecules had conformers eliminated due to low RMSD (5 total conformers, most with 1, one with 2); not replaced with a new conformer.\n",
    "\n",
    "1 molecule has the same number of conformers but different structures included due to diversity considerations (1 conformer swapped); the difference between the old and new conformer is small (RMSD diff < 1e-3 A)."
   ]
  },
  {
   "cell_type": "code",
   "execution_count": 32,
   "id": "2d6dbdfa-ab65-4fbc-b995-d6ea32565749",
   "metadata": {
    "execution": {
     "iopub.execute_input": "2024-08-20T20:07:43.914228Z",
     "iopub.status.busy": "2024-08-20T20:07:43.913204Z",
     "iopub.status.idle": "2024-08-20T20:07:43.929810Z",
     "shell.execute_reply": "2024-08-20T20:07:43.928680Z",
     "shell.execute_reply.started": "2024-08-20T20:07:43.914180Z"
    }
   },
   "outputs": [],
   "source": [
    "for key in newonly_mols.keys():\n",
    "    if key not in oldonly_mols.keys():\n",
    "        print(key)\n",
    "        print(rmsd_rdkit(newonly_mols[key],True,True))\n",
    "        try:\n",
    "            print(rmsd_rdkit(newonly_mols_oldds[key],True,True))\n",
    "        except KeyError:\n",
    "            print(\"Not in new dataset\")\n",
    "        if key not in oldonly_mols.keys():\n",
    "            print('Not in old only keys')\n",
    "        print()"
   ]
  },
  {
   "cell_type": "markdown",
   "id": "ef11b8c3-b4be-4b08-b759-c1d65ef8f121",
   "metadata": {},
   "source": [
    "All molecules with conformers that only appear in the new dataset were also in the old dataset, just with different conformers, so were addressed in the previous cell"
   ]
  },
  {
   "cell_type": "code",
   "execution_count": 33,
   "id": "2542d10c-122e-4679-b815-74668abf5d64",
   "metadata": {
    "execution": {
     "iopub.execute_input": "2024-08-20T20:08:22.019169Z",
     "iopub.status.busy": "2024-08-20T20:08:22.018127Z",
     "iopub.status.idle": "2024-08-20T20:08:22.043876Z",
     "shell.execute_reply": "2024-08-20T20:08:22.041645Z",
     "shell.execute_reply.started": "2024-08-20T20:08:22.019111Z"
    }
   },
   "outputs": [
    {
     "name": "stdout",
     "output_type": "stream",
     "text": [
      "1  keys in common out of  5\n",
      "1  keys in common out of  1\n"
     ]
    }
   ],
   "source": [
    "print(np.count_nonzero(np.isin(list(oldonly_mols.keys()),list(newonly_mols.keys()))),' keys in common out of ',len(list(oldonly_mols.keys())))\n",
    "print(np.count_nonzero(np.isin(list(newonly_mols.keys()),list(oldonly_mols.keys()))),' keys in common out of ',len(list(newonly_mols.keys())))"
   ]
  },
  {
   "cell_type": "markdown",
   "id": "00703e2a-747b-4f25-bea5-8b887de0b874",
   "metadata": {},
   "source": [
    "# Benchmark dataset"
   ]
  },
  {
   "cell_type": "code",
   "execution_count": 5,
   "id": "68b1398d-772f-4ffb-8f95-cc31e0b9fd6f",
   "metadata": {
    "execution": {
     "iopub.execute_input": "2024-08-17T01:47:27.872269Z",
     "iopub.status.busy": "2024-08-17T01:47:27.870879Z",
     "iopub.status.idle": "2024-08-17T01:47:28.731667Z",
     "shell.execute_reply": "2024-08-17T01:47:28.731222Z",
     "shell.execute_reply.started": "2024-08-17T01:47:27.872217Z"
    }
   },
   "outputs": [],
   "source": [
    "sage_220_benchmark = OptimizationResultCollection.parse_file('../sage-2.2.0/05_benchmark_forcefield/datasets/OpenFF-Industry-Benchmark-Season-1-v1.1-filtered-charge-coverage.json')"
   ]
  },
  {
   "cell_type": "code",
   "execution_count": 4,
   "id": "47fa0fd8-31cb-45a1-8ff7-8947514720fc",
   "metadata": {
    "execution": {
     "iopub.execute_input": "2024-08-17T01:47:22.546616Z",
     "iopub.status.busy": "2024-08-17T01:47:22.545617Z",
     "iopub.status.idle": "2024-08-17T01:47:23.209444Z",
     "shell.execute_reply": "2024-08-17T01:47:23.209032Z",
     "shell.execute_reply.started": "2024-08-17T01:47:22.546568Z"
    }
   },
   "outputs": [],
   "source": [
    "benchmark_filter = OptimizationResultCollection.parse_file('./05_benchmark_forcefield/datasets/OpenFF-Industry-Benchmark-Season-1-v1.1-ConfRMSD-0p4.json')"
   ]
  },
  {
   "cell_type": "code",
   "execution_count": 6,
   "id": "3ed014dd-f7e8-48a8-9ad8-8baedbcea981",
   "metadata": {
    "execution": {
     "iopub.execute_input": "2024-08-17T01:47:31.210039Z",
     "iopub.status.busy": "2024-08-17T01:47:31.209299Z",
     "iopub.status.idle": "2024-08-17T01:47:31.232201Z",
     "shell.execute_reply": "2024-08-17T01:47:31.231246Z",
     "shell.execute_reply.started": "2024-08-17T01:47:31.209997Z"
    }
   },
   "outputs": [
    {
     "name": "stdout",
     "output_type": "stream",
     "text": [
      "9822 76351\n"
     ]
    }
   ],
   "source": [
    "print(sage_220_benchmark.n_molecules,sage_220_benchmark.n_results)"
   ]
  },
  {
   "cell_type": "code",
   "execution_count": 7,
   "id": "a02f650d-e963-4b26-b407-326e4bdc0cf2",
   "metadata": {
    "execution": {
     "iopub.execute_input": "2024-08-17T01:47:32.473164Z",
     "iopub.status.busy": "2024-08-17T01:47:32.472566Z",
     "iopub.status.idle": "2024-08-17T01:47:32.495328Z",
     "shell.execute_reply": "2024-08-17T01:47:32.494609Z",
     "shell.execute_reply.started": "2024-08-17T01:47:32.473127Z"
    }
   },
   "outputs": [
    {
     "name": "stdout",
     "output_type": "stream",
     "text": [
      "9822 66978\n"
     ]
    }
   ],
   "source": [
    "print(benchmark_filter.n_molecules,benchmark_filter.n_results)"
   ]
  },
  {
   "cell_type": "markdown",
   "id": "16981acb-14c4-4838-b218-f65bc5b71689",
   "metadata": {},
   "source": [
    "About 12,000 conformers eliminated"
   ]
  },
  {
   "cell_type": "code",
   "execution_count": 8,
   "id": "b23a0a90-0661-41f8-abc9-aef3e43fcaad",
   "metadata": {
    "execution": {
     "iopub.execute_input": "2024-08-17T01:47:39.994287Z",
     "iopub.status.busy": "2024-08-17T01:47:39.993698Z",
     "iopub.status.idle": "2024-08-17T01:47:40.007848Z",
     "shell.execute_reply": "2024-08-17T01:47:40.007073Z",
     "shell.execute_reply.started": "2024-08-17T01:47:39.994250Z"
    },
    "scrolled": true
   },
   "outputs": [],
   "source": [
    "qcaids_filter_bm = [entry.record_id for entry in benchmark_filter.entries['https://api.qcarchive.molssi.org:443/']]"
   ]
  },
  {
   "cell_type": "code",
   "execution_count": 9,
   "id": "f6f6df3c-fc25-4349-8aaa-f79dfe6711bf",
   "metadata": {
    "execution": {
     "iopub.execute_input": "2024-08-17T01:47:40.226471Z",
     "iopub.status.busy": "2024-08-17T01:47:40.225476Z",
     "iopub.status.idle": "2024-08-17T01:47:40.251117Z",
     "shell.execute_reply": "2024-08-17T01:47:40.249780Z",
     "shell.execute_reply.started": "2024-08-17T01:47:40.226420Z"
    }
   },
   "outputs": [],
   "source": [
    "qcaids_nofilter_bm = [entry.record_id for entry in sage_220_benchmark.entries['https://api.qcarchive.molssi.org:443/']]"
   ]
  },
  {
   "cell_type": "code",
   "execution_count": 10,
   "id": "43395810-1698-4633-ade5-ea46447922f9",
   "metadata": {
    "execution": {
     "iopub.execute_input": "2024-08-17T01:47:40.536901Z",
     "iopub.status.busy": "2024-08-17T01:47:40.532701Z",
     "iopub.status.idle": "2024-08-17T01:47:40.574275Z",
     "shell.execute_reply": "2024-08-17T01:47:40.573669Z",
     "shell.execute_reply.started": "2024-08-17T01:47:40.536829Z"
    }
   },
   "outputs": [
    {
     "data": {
      "text/plain": [
       "66978"
      ]
     },
     "execution_count": 10,
     "metadata": {},
     "output_type": "execute_result"
    }
   ],
   "source": [
    "qcaids_not_filtered = np.isin(qcaids_nofilter_bm,qcaids_filter_bm)\n",
    "np.count_nonzero(qcaids_not_filtered)"
   ]
  },
  {
   "cell_type": "code",
   "execution_count": 11,
   "id": "5a121d18-0f9f-46c5-be9b-9e11df86ea7a",
   "metadata": {
    "execution": {
     "iopub.execute_input": "2024-08-17T01:47:42.247089Z",
     "iopub.status.busy": "2024-08-17T01:47:42.246548Z",
     "iopub.status.idle": "2024-08-17T01:47:42.264205Z",
     "shell.execute_reply": "2024-08-17T01:47:42.263181Z",
     "shell.execute_reply.started": "2024-08-17T01:47:42.247053Z"
    }
   },
   "outputs": [
    {
     "data": {
      "text/plain": [
       "9373"
      ]
     },
     "execution_count": 11,
     "metadata": {},
     "output_type": "execute_result"
    }
   ],
   "source": [
    "qcaids_filtered_out = np.logical_not(qcaids_not_filtered)\n",
    "np.count_nonzero(qcaids_filtered_out)"
   ]
  },
  {
   "cell_type": "code",
   "execution_count": 12,
   "id": "f306be0f-aba6-4386-8bec-20963313cd10",
   "metadata": {
    "execution": {
     "iopub.execute_input": "2024-08-17T01:47:43.263870Z",
     "iopub.status.busy": "2024-08-17T01:47:43.262642Z",
     "iopub.status.idle": "2024-08-17T01:47:43.283577Z",
     "shell.execute_reply": "2024-08-17T01:47:43.282462Z",
     "shell.execute_reply.started": "2024-08-17T01:47:43.263808Z"
    }
   },
   "outputs": [],
   "source": [
    "qcaids_fo_ids = np.array(qcaids_nofilter_bm)[qcaids_filtered_out]"
   ]
  },
  {
   "cell_type": "code",
   "execution_count": 13,
   "id": "f273643d-942b-44bd-b78e-579aa6c6da20",
   "metadata": {
    "execution": {
     "iopub.execute_input": "2024-08-17T01:47:43.465283Z",
     "iopub.status.busy": "2024-08-17T01:47:43.464436Z",
     "iopub.status.idle": "2024-08-17T01:47:43.961203Z",
     "shell.execute_reply": "2024-08-17T01:47:43.960780Z",
     "shell.execute_reply.started": "2024-08-17T01:47:43.465238Z"
    }
   },
   "outputs": [],
   "source": [
    "inchi_keys_fo = np.unique([entry.inchi_key for entry in sage_220_benchmark.entries['https://api.qcarchive.molssi.org:443/'] if entry.record_id in qcaids_fo_ids])"
   ]
  },
  {
   "cell_type": "code",
   "execution_count": 14,
   "id": "a1d386e9-c7b4-4e4d-8658-1fedb0d35b53",
   "metadata": {
    "execution": {
     "iopub.execute_input": "2024-08-17T01:47:43.962297Z",
     "iopub.status.busy": "2024-08-17T01:47:43.962126Z",
     "iopub.status.idle": "2024-08-17T01:47:43.965756Z",
     "shell.execute_reply": "2024-08-17T01:47:43.964856Z",
     "shell.execute_reply.started": "2024-08-17T01:47:43.962281Z"
    }
   },
   "outputs": [
    {
     "data": {
      "text/plain": [
       "4212"
      ]
     },
     "execution_count": 14,
     "metadata": {},
     "output_type": "execute_result"
    }
   ],
   "source": [
    "len(inchi_keys_fo)"
   ]
  },
  {
   "cell_type": "markdown",
   "id": "b85ca114-1fef-4779-b778-d2f7d39d44bb",
   "metadata": {},
   "source": [
    "almost 5000 affected molecules, out of 10000"
   ]
  },
  {
   "cell_type": "code",
   "execution_count": null,
   "id": "1c9075c1-377b-4f32-b862-0960cdf31b7a",
   "metadata": {},
   "outputs": [],
   "source": []
  }
 ],
 "metadata": {
  "kernelspec": {
   "display_name": "Python 3 (ipykernel)",
   "language": "python",
   "name": "python3"
  },
  "language_info": {
   "codemirror_mode": {
    "name": "ipython",
    "version": 3
   },
   "file_extension": ".py",
   "mimetype": "text/x-python",
   "name": "python",
   "nbconvert_exporter": "python",
   "pygments_lexer": "ipython3",
   "version": "3.10.14"
  }
 },
 "nbformat": 4,
 "nbformat_minor": 5
}
