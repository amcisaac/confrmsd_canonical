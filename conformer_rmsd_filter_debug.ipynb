{
 "cells": [
  {
   "cell_type": "code",
   "execution_count": 1,
   "id": "0cd87d6b-c46e-4313-9695-d2015bb46f6d",
   "metadata": {
    "execution": {
     "iopub.execute_input": "2024-08-16T18:53:32.224263Z",
     "iopub.status.busy": "2024-08-16T18:53:32.222895Z",
     "iopub.status.idle": "2024-08-16T18:53:43.442187Z",
     "shell.execute_reply": "2024-08-16T18:53:43.441645Z",
     "shell.execute_reply.started": "2024-08-16T18:53:32.224157Z"
    }
   },
   "outputs": [],
   "source": [
    "from openff.qcsubmit.results import OptimizationResultCollection\n",
    "from openff.qcsubmit.results.filters import ConformerRMSDFilter\n",
    "from openff.toolkit import Molecule, Topology, ForceField\n",
    "import copy, itertools"
   ]
  },
  {
   "cell_type": "code",
   "execution_count": 18,
   "id": "d6b2dd9e-7ebd-45dc-96be-98eaab77e9d7",
   "metadata": {
    "execution": {
     "iopub.execute_input": "2024-08-16T19:03:36.250596Z",
     "iopub.status.busy": "2024-08-16T19:03:36.247728Z",
     "iopub.status.idle": "2024-08-16T19:03:36.280792Z",
     "shell.execute_reply": "2024-08-16T19:03:36.279978Z",
     "shell.execute_reply.started": "2024-08-16T19:03:36.250500Z"
    },
    "jupyter": {
     "source_hidden": true
    }
   },
   "outputs": [],
   "source": [
    "from openff.qcsubmit.results.filters import ResultFilter, SinglepointRecordFilter, SinglepointRecordGroupFilter\n",
    "from typing import List, Optional, Set, Tuple, TypeVar, Union\n",
    "from openff.qcsubmit._pydantic import (\n",
    "    BaseModel,\n",
    "    Field,\n",
    "    PrivateAttr,\n",
    "    root_validator,\n",
    "    validator,\n",
    ")\n",
    "from qcportal.optimization import OptimizationRecord\n",
    "from qcportal.record_models import BaseRecord, RecordStatusEnum\n",
    "from qcportal.singlepoint import SinglepointRecord\n",
    "import numpy\n",
    "\n",
    "# Identicaly to ConformerRMSDFilter, but with the molecule's atoms being canonically ordered\n",
    "class ConformerRMSDFilterCanonical(SinglepointRecordGroupFilter):\n",
    "    \"\"\"A filter which will retain up to a maximum number of conformers for each unique\n",
    "    molecule (as determined by an entries InChI key) which are distinct to within a\n",
    "    specified RMSD tolerance.\n",
    "\n",
    "    Notes:\n",
    "        * This filter will only be applied to basic and optimization datasets.\n",
    "          Torsion drive datasets / entries will be skipped.\n",
    "        * A greedy selection algorithm is used to select conformers which are most\n",
    "          distinct in terms of their RMSD values.\n",
    "    \"\"\"\n",
    "\n",
    "    max_conformers: int = Field(\n",
    "        10,\n",
    "        description=\"The maximum number of conformers to retain for each unique molecule.\",\n",
    "    )\n",
    "\n",
    "    rmsd_tolerance: float = Field(\n",
    "        0.5,\n",
    "        description=\"The minimum RMSD [A] between two conformers for them to be \"\n",
    "        \"considered distinct.\",\n",
    "    )\n",
    "    heavy_atoms_only: bool = Field(\n",
    "        True,\n",
    "        description=\"Whether to only consider heavy atoms when computing the RMSD \"\n",
    "        \"between two conformers.\",\n",
    "    )\n",
    "    check_automorphs: bool = Field(\n",
    "        True,\n",
    "        description=\"Whether to consider automorphs when computing the RMSD between two \"\n",
    "        \"conformers. Setting this option to ``True`` may slow down the filter \"\n",
    "        \"considerably if ``heavy_atoms_only`` is set to ``False``.\",\n",
    "    )\n",
    "\n",
    "    def _compute_rmsd_matrix_rd(self, molecule: Molecule) -> numpy.ndarray:\n",
    "        \"\"\"Computes the RMSD between all conformers stored on a molecule using an RDKit\n",
    "        backend.\"\"\"\n",
    "\n",
    "        from rdkit import Chem\n",
    "        from rdkit.Chem import AllChem\n",
    "\n",
    "        rdkit_molecule: Chem.RWMol = molecule.to_rdkit()\n",
    "\n",
    "        if self.heavy_atoms_only:\n",
    "            rdkit_molecule = Chem.RemoveHs(rdkit_molecule)\n",
    "\n",
    "        n_conformers = len(molecule.conformers)\n",
    "        conformer_ids = [conf.GetId() for conf in rdkit_molecule.GetConformers()]\n",
    "\n",
    "        rmsd_matrix = numpy.zeros((n_conformers, n_conformers))\n",
    "\n",
    "        for i, j in itertools.combinations(conformer_ids, 2):\n",
    "            if self.check_automorphs:\n",
    "                rmsd_matrix[i, j] = AllChem.GetBestRMS(\n",
    "                    rdkit_molecule,\n",
    "                    rdkit_molecule,\n",
    "                    conformer_ids[i],\n",
    "                    conformer_ids[j],\n",
    "                )\n",
    "\n",
    "            else:\n",
    "                rmsd_matrix[i, j] = AllChem.GetConformerRMS(\n",
    "                    rdkit_molecule,\n",
    "                    conformer_ids[i],\n",
    "                    conformer_ids[j],\n",
    "                )\n",
    "\n",
    "        rmsd_matrix += rmsd_matrix.T\n",
    "        return rmsd_matrix\n",
    "\n",
    "    def _compute_rmsd_matrix_oe(self, molecule: Molecule) -> numpy.ndarray:\n",
    "        \"\"\"Computes the RMSD between all conformers stored on a molecule using an OpenEye\n",
    "        backend.\"\"\"\n",
    "\n",
    "        from openeye import oechem\n",
    "\n",
    "        oe_molecule: oechem.OEMol = molecule.to_openeye()\n",
    "        oe_conformers = {\n",
    "            i: oe_conformer for i, oe_conformer in enumerate(oe_molecule.GetConfs())\n",
    "        }\n",
    "\n",
    "        n_conformers = len(molecule.conformers)\n",
    "\n",
    "        rmsd_matrix = numpy.zeros((n_conformers, n_conformers))\n",
    "\n",
    "        for i, j in itertools.combinations([*oe_conformers], 2):\n",
    "            rmsd_matrix[i, j] = oechem.OERMSD(\n",
    "                oe_conformers[i],\n",
    "                oe_conformers[j],\n",
    "                self.check_automorphs,\n",
    "                self.heavy_atoms_only,\n",
    "                True,\n",
    "            )\n",
    "\n",
    "        rmsd_matrix += rmsd_matrix.T\n",
    "        return rmsd_matrix\n",
    "\n",
    "    def _compute_rmsd_matrix(self, molecule: Molecule) -> numpy.ndarray:\n",
    "        \"\"\"Computes the RMSD between all conformers stored on a molecule.\"\"\"\n",
    "\n",
    "        try:\n",
    "            rmsd_matrix = self._compute_rmsd_matrix_rd(molecule)\n",
    "        except ModuleNotFoundError:\n",
    "            rmsd_matrix = self._compute_rmsd_matrix_oe(molecule)\n",
    "\n",
    "        return rmsd_matrix\n",
    "\n",
    "    def _filter_function(\n",
    "        self,\n",
    "        entries: List[\n",
    "            Tuple[\n",
    "                \"_BaseResult\",\n",
    "                Union[SinglepointRecord, OptimizationRecord],\n",
    "                Molecule,\n",
    "                str,\n",
    "            ]\n",
    "        ],\n",
    "    ) -> List[Tuple[\"_BaseResult\", str]]:\n",
    "        # Sanity check that all molecules look as we expect.\n",
    "        assert all(molecule.n_conformers == 1 for _, _, molecule, _ in entries)\n",
    "\n",
    "        # Condense the conformers into a single molecule.\n",
    "        conformers = [\n",
    "            molecule.canonical_order_atoms().conformers[0]\n",
    "            for _, _, molecule, _ in entries\n",
    "        ]\n",
    "\n",
    "        [_, _, molecule, _] = entries[0]\n",
    "\n",
    "        molecule = copy.deepcopy(molecule.canonical_order_atoms())\n",
    "        molecule._conformers = conformers\n",
    "\n",
    "        rmsd_matrix = self._compute_rmsd_matrix(molecule)\n",
    "        # print(rmsd_matrix)\n",
    "\n",
    "        # Select a set N maximally diverse conformers which are distinct in terms\n",
    "        # of the RMSD tolerance.\n",
    "\n",
    "        # Apply the greedy selection process.\n",
    "        closed_list = numpy.zeros(self.max_conformers).astype(int)\n",
    "        closed_mask = numpy.zeros(rmsd_matrix.shape[0], dtype=bool)\n",
    "\n",
    "        n_selected = 1\n",
    "\n",
    "        for i in range(min(molecule.n_conformers, self.max_conformers - 1)):\n",
    "            distances = rmsd_matrix[closed_list[: i + 1], :].sum(axis=0)\n",
    "\n",
    "            # Exclude already selected conformers or conformers which are too similar\n",
    "            # to those already selected.\n",
    "            closed_mask[\n",
    "                numpy.any(\n",
    "                    rmsd_matrix[closed_list[: i + 1], :] < self.rmsd_tolerance, axis=0\n",
    "                )\n",
    "            ] = True\n",
    "\n",
    "            if numpy.all(closed_mask):\n",
    "                # Stop of there are no more distinct conformers to select from.\n",
    "                break\n",
    "\n",
    "            distant_index = numpy.ma.array(distances, mask=closed_mask).argmax()\n",
    "            closed_list[i + 1] = distant_index\n",
    "\n",
    "            n_selected += 1\n",
    "\n",
    "        return [\n",
    "            (entries[i.item()][0], entries[i.item()][-1])\n",
    "            for i in closed_list[:n_selected]\n",
    "        ]"
   ]
  },
  {
   "cell_type": "code",
   "execution_count": 2,
   "id": "1152d938-9c36-4e78-9fe6-e5236bb3f1ec",
   "metadata": {
    "execution": {
     "iopub.execute_input": "2024-08-16T18:53:43.444074Z",
     "iopub.status.busy": "2024-08-16T18:53:43.443436Z",
     "iopub.status.idle": "2024-08-16T18:53:43.449023Z",
     "shell.execute_reply": "2024-08-16T18:53:43.448590Z",
     "shell.execute_reply.started": "2024-08-16T18:53:43.444047Z"
    },
    "jupyter": {
     "source_hidden": true
    }
   },
   "outputs": [],
   "source": [
    "import numpy as np\n",
    "\n",
    "# This is just yoinked from ConformerRMSDFilter\n",
    "def rmsd_rdkit(molecule,check_automorphs,heavy_atoms_only):\n",
    "\n",
    "    from rdkit import Chem\n",
    "    from rdkit.Chem import AllChem\n",
    "\n",
    "    rdkit_molecule: Chem.RWMol = molecule.to_rdkit()\n",
    "\n",
    "    if heavy_atoms_only:\n",
    "        rdkit_molecule = Chem.RemoveHs(rdkit_molecule)\n",
    "\n",
    "    n_conformers = len(molecule.conformers)\n",
    "    conformer_ids = [conf.GetId() for conf in rdkit_molecule.GetConformers()]\n",
    "\n",
    "    rmsd_matrix = np.zeros((n_conformers, n_conformers))\n",
    "\n",
    "    for i, j in itertools.combinations(conformer_ids, 2):\n",
    "        if check_automorphs:\n",
    "            rmsd_matrix[i, j] = AllChem.GetBestRMS(\n",
    "                rdkit_molecule,\n",
    "                rdkit_molecule,\n",
    "                conformer_ids[i],\n",
    "                conformer_ids[j],\n",
    "            )\n",
    "\n",
    "        else:\n",
    "            rmsd_matrix[i, j] = AllChem.GetConformerRMS(\n",
    "                rdkit_molecule,\n",
    "                conformer_ids[i],\n",
    "                conformer_ids[j],\n",
    "            )\n",
    "\n",
    "    rmsd_matrix += rmsd_matrix.T\n",
    "    return rmsd_matrix"
   ]
  },
  {
   "cell_type": "markdown",
   "id": "d63ffc05-afd8-4843-9290-328e83dcfaa4",
   "metadata": {},
   "source": [
    "# Training dataset"
   ]
  },
  {
   "cell_type": "code",
   "execution_count": 183,
   "id": "15a30f04-5195-4271-b9a5-4fd991e19cb2",
   "metadata": {
    "execution": {
     "iopub.execute_input": "2024-08-16T23:41:02.325085Z",
     "iopub.status.busy": "2024-08-16T23:41:02.321128Z",
     "iopub.status.idle": "2024-08-16T23:41:02.405052Z",
     "shell.execute_reply": "2024-08-16T23:41:02.404533Z",
     "shell.execute_reply.started": "2024-08-16T23:41:02.325003Z"
    }
   },
   "outputs": [],
   "source": [
    "sage_220_training = OptimizationResultCollection.parse_file('./02_curate-data/output/optimization-training-set-sage220.json')"
   ]
  },
  {
   "cell_type": "code",
   "execution_count": 184,
   "id": "432d4558-cbd0-46e3-8f27-88f333b0abe3",
   "metadata": {
    "execution": {
     "iopub.execute_input": "2024-08-16T23:41:03.935047Z",
     "iopub.status.busy": "2024-08-16T23:41:03.934224Z",
     "iopub.status.idle": "2024-08-16T23:41:04.010100Z",
     "shell.execute_reply": "2024-08-16T23:41:04.009456Z",
     "shell.execute_reply.started": "2024-08-16T23:41:03.935000Z"
    }
   },
   "outputs": [],
   "source": [
    "new_conf_filter_training = OptimizationResultCollection.parse_file('./02_curate-data/output/optimization-training-set.json')"
   ]
  },
  {
   "cell_type": "code",
   "execution_count": 185,
   "id": "ed3200c6-044f-43fc-a3e3-c209fa1bf3e5",
   "metadata": {
    "execution": {
     "iopub.execute_input": "2024-08-16T23:41:05.017450Z",
     "iopub.status.busy": "2024-08-16T23:41:05.016791Z",
     "iopub.status.idle": "2024-08-16T23:41:05.036385Z",
     "shell.execute_reply": "2024-08-16T23:41:05.035638Z",
     "shell.execute_reply.started": "2024-08-16T23:41:05.017410Z"
    }
   },
   "outputs": [
    {
     "name": "stdout",
     "output_type": "stream",
     "text": [
      "1609 5126\n",
      "1607 5114\n"
     ]
    }
   ],
   "source": [
    "print(sage_220_training.n_molecules,sage_220_training.n_results)\n",
    "print(new_conf_filter_training.n_molecules,new_conf_filter_training.n_results)"
   ]
  },
  {
   "cell_type": "code",
   "execution_count": 186,
   "id": "2ed53b2b-e64c-48ea-8d5e-dc7738d3daa6",
   "metadata": {
    "execution": {
     "iopub.execute_input": "2024-08-16T23:44:23.126991Z",
     "iopub.status.busy": "2024-08-16T23:44:23.125131Z",
     "iopub.status.idle": "2024-08-16T23:44:23.143462Z",
     "shell.execute_reply": "2024-08-16T23:44:23.142366Z",
     "shell.execute_reply.started": "2024-08-16T23:44:23.126912Z"
    },
    "scrolled": true
   },
   "outputs": [],
   "source": [
    "qcaids_newfilter = [entry.record_id for entry in new_conf_filter_training.entries['https://api.qcarchive.molssi.org:443/']]"
   ]
  },
  {
   "cell_type": "code",
   "execution_count": 187,
   "id": "81da7d44-e74e-4e02-9f72-2dd17469bda5",
   "metadata": {
    "execution": {
     "iopub.execute_input": "2024-08-16T23:44:23.246409Z",
     "iopub.status.busy": "2024-08-16T23:44:23.245470Z",
     "iopub.status.idle": "2024-08-16T23:44:23.261669Z",
     "shell.execute_reply": "2024-08-16T23:44:23.260466Z",
     "shell.execute_reply.started": "2024-08-16T23:44:23.246368Z"
    }
   },
   "outputs": [],
   "source": [
    "qcaids_oldfilter = [entry.record_id for entry in sage_220_training.entries['https://api.qcarchive.molssi.org:443/']]"
   ]
  },
  {
   "cell_type": "code",
   "execution_count": 188,
   "id": "97462f7f-16f2-4877-8f95-602a88f71896",
   "metadata": {
    "execution": {
     "iopub.execute_input": "2024-08-16T23:44:24.232440Z",
     "iopub.status.busy": "2024-08-16T23:44:24.229839Z",
     "iopub.status.idle": "2024-08-16T23:44:24.248215Z",
     "shell.execute_reply": "2024-08-16T23:44:24.247667Z",
     "shell.execute_reply.started": "2024-08-16T23:44:24.232357Z"
    }
   },
   "outputs": [
    {
     "data": {
      "text/plain": [
       "5093"
      ]
     },
     "execution_count": 188,
     "metadata": {},
     "output_type": "execute_result"
    }
   ],
   "source": [
    "qcaids_both = np.isin(qcaids_oldfilter,qcaids_newfilter)\n",
    "np.count_nonzero(qcaids_both)"
   ]
  },
  {
   "cell_type": "code",
   "execution_count": 189,
   "id": "a22279ca-dd95-40c8-aaee-5314641aae49",
   "metadata": {
    "execution": {
     "iopub.execute_input": "2024-08-16T23:44:24.948043Z",
     "iopub.status.busy": "2024-08-16T23:44:24.947082Z",
     "iopub.status.idle": "2024-08-16T23:44:24.963239Z",
     "shell.execute_reply": "2024-08-16T23:44:24.962386Z",
     "shell.execute_reply.started": "2024-08-16T23:44:24.947987Z"
    }
   },
   "outputs": [
    {
     "data": {
      "text/plain": [
       "33"
      ]
     },
     "execution_count": 189,
     "metadata": {},
     "output_type": "execute_result"
    }
   ],
   "source": [
    "qcaids_oldonly = np.logical_not(np.isin(qcaids_oldfilter,qcaids_newfilter))\n",
    "np.count_nonzero(qcaids_oldonly)"
   ]
  },
  {
   "cell_type": "code",
   "execution_count": 190,
   "id": "62437234-70a3-4da8-a269-400e1616e29f",
   "metadata": {
    "execution": {
     "iopub.execute_input": "2024-08-16T23:44:25.427574Z",
     "iopub.status.busy": "2024-08-16T23:44:25.426380Z",
     "iopub.status.idle": "2024-08-16T23:44:25.443446Z",
     "shell.execute_reply": "2024-08-16T23:44:25.442559Z",
     "shell.execute_reply.started": "2024-08-16T23:44:25.427510Z"
    }
   },
   "outputs": [
    {
     "data": {
      "text/plain": [
       "21"
      ]
     },
     "execution_count": 190,
     "metadata": {},
     "output_type": "execute_result"
    }
   ],
   "source": [
    "qcaids_newonly = np.logical_not(np.isin(qcaids_newfilter,qcaids_oldfilter))\n",
    "np.count_nonzero(qcaids_newonly)"
   ]
  },
  {
   "cell_type": "markdown",
   "id": "58f62485-d152-48c2-acb2-3c479d163719",
   "metadata": {},
   "source": [
    "33 conformers were removed with the new filter, and 21 new ones were added. This should reflect both conformers that were erroneously kept due to the atom mis-ordering, as well as conformers that were not correctly selected to represent the most diverse options.\n",
    "\n",
    "Additionally, 2 molecules were removed. Based on later analysis, that accounts for 9 of the 33 conformers. It's not clear to me that these were eliminated due to the new filter."
   ]
  },
  {
   "cell_type": "markdown",
   "id": "b75f4b22-6deb-460e-a526-88795da76e90",
   "metadata": {},
   "source": [
    "## Look at the filtered molecules"
   ]
  },
  {
   "cell_type": "markdown",
   "id": "3eef33cc-4560-49d1-8424-999c6fd5ea0c",
   "metadata": {
    "jp-MarkdownHeadingCollapsed": true
   },
   "source": [
    "### Comparing the number of conformers that appear only with the old filter, vs only with the new filter."
   ]
  },
  {
   "cell_type": "code",
   "execution_count": 92,
   "id": "ab70d320-588e-485c-a3aa-b6fe568b86ff",
   "metadata": {
    "execution": {
     "iopub.execute_input": "2024-08-16T20:43:59.532371Z",
     "iopub.status.busy": "2024-08-16T20:43:59.530457Z",
     "iopub.status.idle": "2024-08-16T20:43:59.541881Z",
     "shell.execute_reply": "2024-08-16T20:43:59.541090Z",
     "shell.execute_reply.started": "2024-08-16T20:43:59.532308Z"
    }
   },
   "outputs": [],
   "source": [
    "qcaids_oldonly_ids = np.array(qcaids_oldfilter)[qcaids_oldonly]\n",
    "qcaids_newonly_ids = np.array(qcaids_newfilter)[qcaids_newonly]"
   ]
  },
  {
   "cell_type": "code",
   "execution_count": 94,
   "id": "d4dc9d80-e24d-4f6d-9a51-069ab3e70039",
   "metadata": {
    "execution": {
     "iopub.execute_input": "2024-08-16T20:44:01.024707Z",
     "iopub.status.busy": "2024-08-16T20:44:01.024178Z",
     "iopub.status.idle": "2024-08-16T20:44:09.222994Z",
     "shell.execute_reply": "2024-08-16T20:44:09.222626Z",
     "shell.execute_reply.started": "2024-08-16T20:44:01.024671Z"
    }
   },
   "outputs": [],
   "source": [
    "entries_oldonly = [entry for entry in sage_220_training.entries['https://api.qcarchive.molssi.org:443/'] if entry.record_id in qcaids_oldonly_ids]\n",
    "ds_oldonly = OptimizationResultCollection.parse_obj({'entries':{'https://api.qcarchive.molssi.org:443/':entries_oldonly}})\n",
    "records_oldonly = ds_oldonly.to_records()"
   ]
  },
  {
   "cell_type": "code",
   "execution_count": 95,
   "id": "537e3c38-e9c7-433f-8b76-8385e735d79f",
   "metadata": {
    "execution": {
     "iopub.execute_input": "2024-08-16T20:44:09.224213Z",
     "iopub.status.busy": "2024-08-16T20:44:09.224078Z",
     "iopub.status.idle": "2024-08-16T20:44:14.558812Z",
     "shell.execute_reply": "2024-08-16T20:44:14.558216Z",
     "shell.execute_reply.started": "2024-08-16T20:44:09.224201Z"
    }
   },
   "outputs": [],
   "source": [
    "entries_newonly = [entry for entry in new_conf_filter_training.entries['https://api.qcarchive.molssi.org:443/'] if entry.record_id in qcaids_newonly_ids]\n",
    "ds_newonly = OptimizationResultCollection.parse_obj({'entries':{'https://api.qcarchive.molssi.org:443/':entries_newonly}})\n",
    "records_newonly = ds_newonly.to_records()"
   ]
  },
  {
   "cell_type": "code",
   "execution_count": 96,
   "id": "c8f1a1d7-3ffb-4a79-9965-2b0b80cffe87",
   "metadata": {
    "execution": {
     "iopub.execute_input": "2024-08-16T20:44:14.559693Z",
     "iopub.status.busy": "2024-08-16T20:44:14.559546Z",
     "iopub.status.idle": "2024-08-16T20:44:14.562512Z",
     "shell.execute_reply": "2024-08-16T20:44:14.561932Z",
     "shell.execute_reply.started": "2024-08-16T20:44:14.559679Z"
    },
    "scrolled": true
   },
   "outputs": [],
   "source": [
    "inchis_newonly = [entry.inchi_key for entry in entries_newonly]\n",
    "inchis_oldonly = [entry.inchi_key for entry in entries_oldonly]"
   ]
  },
  {
   "cell_type": "code",
   "execution_count": 97,
   "id": "24cb52f6-432f-4d18-b82c-dfb9a29d7699",
   "metadata": {
    "execution": {
     "iopub.execute_input": "2024-08-16T20:44:14.564644Z",
     "iopub.status.busy": "2024-08-16T20:44:14.564366Z",
     "iopub.status.idle": "2024-08-16T20:44:14.567943Z",
     "shell.execute_reply": "2024-08-16T20:44:14.567281Z",
     "shell.execute_reply.started": "2024-08-16T20:44:14.564615Z"
    }
   },
   "outputs": [],
   "source": [
    "oldonly_count = {i:inchis_oldonly.count(i) for i in inchis_oldonly}\n",
    "newonly_count = {i:inchis_newonly.count(i) for i in inchis_newonly}"
   ]
  },
  {
   "cell_type": "code",
   "execution_count": 180,
   "id": "9ca09ebf-d32f-4745-baf1-ca406ca289aa",
   "metadata": {
    "execution": {
     "iopub.execute_input": "2024-08-16T23:30:32.625844Z",
     "iopub.status.busy": "2024-08-16T23:30:32.624925Z",
     "iopub.status.idle": "2024-08-16T23:30:32.640850Z",
     "shell.execute_reply": "2024-08-16T23:30:32.639045Z",
     "shell.execute_reply.started": "2024-08-16T23:30:32.625771Z"
    }
   },
   "outputs": [
    {
     "name": "stdout",
     "output_type": "stream",
     "text": [
      "InChI Key          N_new_only N_old_only\n",
      "ZJDLOWSPIJMQJM-BNFYLZJQNA-N 2 2\n",
      "BYVJUJZHTZGTGN-FQEVSTJZNA-N 1 1\n",
      "VGUQKHDURAWPMZ-JXXMBTQSNA-O 1 1\n",
      "VNUAECPUJCVSCB-OGAHYVOVNA-O 1 1\n",
      "NPJQGNNJTZLKLZ-FMKRZOJSNA-O 1 1\n",
      "CKKHYAWIHLCINY-GOHCHAOUNA-M 3 3\n",
      "QCBGJJZMXOJPCW-XZPUMGFXNA-O 1 1\n",
      "NRCMARGFTNIBSO-VKIPPBGRNA-O 1 1\n",
      "RUDPKBHKOYCBOZ-NFCFVMPONA-O 1 1\n",
      "ZSLXFKRTLKLABA-OKQXLLATNA-O 1 1\n",
      "YNNRNTJQNSRSRK-SLGYIQEMNA-O 1 1\n",
      "YODRUDCHYZANJP-AALBHGGMNA-O 1 1\n",
      "OYKYRRBQJOYZBJ-RXMQYKEDNA-N 1\n",
      "HYHIWEFQQYVADT-ZQIFOIARNA-M 1 1\n",
      "HYHIWEFQQYVADT-FZOZFQFYNA-N 1 1\n",
      "POSMTMUEUFPCEY-UHFFFAOYNA-N 2 1\n",
      "BMAMZZAGBSHIHM-XGRDREAVNA-O 1 1\n",
      "['OYKYRRBQJOYZBJ-RXMQYKEDNA-N', 'POSMTMUEUFPCEY-UHFFFAOYNA-N']\n"
     ]
    }
   ],
   "source": [
    "not_one_to_one_new = []\n",
    "print(\"InChI Key         \",\"N_new_only\",\"N_old_only\")\n",
    "for key in newonly_count.keys():\n",
    "    try:\n",
    "        print(key,newonly_count[key],oldonly_count[key])\n",
    "        if newonly_count[key] != oldonly_count[key]:\n",
    "            not_one_to_one_new.append(key)\n",
    "    except KeyError:\n",
    "        print(key,newonly_count[key])\n",
    "        not_one_to_one_new.append(key)\n",
    "\n",
    "print(not_one_to_one_new)"
   ]
  },
  {
   "cell_type": "markdown",
   "id": "84cb8b4d-7680-485d-b046-37a59420fb98",
   "metadata": {},
   "source": [
    "Here we look at conformers that appear only in the new filter's results. The new filter mostly just replaces eliminated conformers with new ones. Replacing with a new conformer could either be because the old one was eliminated due to being identical to an existing conformer, and a more diverse choice was included instead, or just changes due to the structural diversity metric. Except for `OYKYRRBQJOYZBJ-RXMQYKEDNA-N` and `POSMTMUEUFPCEY-UHFFFAOYNA-N`, where one conformer is actually added by the new filter. "
   ]
  },
  {
   "cell_type": "code",
   "execution_count": 182,
   "id": "47c3f3f2-5ea0-47c5-be1c-b9b52365c2b9",
   "metadata": {
    "execution": {
     "iopub.execute_input": "2024-08-16T23:31:06.971292Z",
     "iopub.status.busy": "2024-08-16T23:31:06.970557Z",
     "iopub.status.idle": "2024-08-16T23:31:06.981286Z",
     "shell.execute_reply": "2024-08-16T23:31:06.980170Z",
     "shell.execute_reply.started": "2024-08-16T23:31:06.971223Z"
    }
   },
   "outputs": [
    {
     "name": "stdout",
     "output_type": "stream",
     "text": [
      "InChI Key          N_new_only N_old_only\n",
      "ZJDLOWSPIJMQJM-BNFYLZJQNA-N 2 2\n",
      "RORAOHDOEDEVOG-YHMJCDSINA-N   1\n",
      "BYVJUJZHTZGTGN-FQEVSTJZNA-N 1 1\n",
      "NRCMARGFTNIBSO-VKIPPBGRNA-O 1 1\n",
      "YODRUDCHYZANJP-AALBHGGMNA-O 1 1\n",
      "RUDPKBHKOYCBOZ-NFCFVMPONA-O 1 1\n",
      "NPJQGNNJTZLKLZ-FMKRZOJSNA-O 1 1\n",
      "ZSLXFKRTLKLABA-OKQXLLATNA-O 1 1\n",
      "VNUAECPUJCVSCB-OGAHYVOVNA-O 1 1\n",
      "QCBGJJZMXOJPCW-XZPUMGFXNA-O 1 1\n",
      "YNNRNTJQNSRSRK-SLGYIQEMNA-O 1 1\n",
      "VGUQKHDURAWPMZ-JXXMBTQSNA-O 1 1\n",
      "CKKHYAWIHLCINY-GOHCHAOUNA-M 3 3\n",
      "IWKUWQHVHPGHMC-JDBSGULFNA-N   2\n",
      "HYHIWEFQQYVADT-FZOZFQFYNA-N 1 1\n",
      "HYHIWEFQQYVADT-ZQIFOIARNA-M 1 1\n",
      "POSMTMUEUFPCEY-UHFFFAOYNA-N 2 1\n",
      "LLAFVXRGNOJWJX-ZYPYEQLONA-O   2\n",
      "YAWMZEFNZRERCD-LXUPDGMKNA-M   7\n",
      "BMAMZZAGBSHIHM-XGRDREAVNA-O 1 1\n",
      "WUAGPRSQTJSTRA-QVNRZVRXNA-M   1\n",
      "DTBNBXWJWCWCIK-HOVPBEAZNA-K   1\n",
      "['RORAOHDOEDEVOG-YHMJCDSINA-N', 'IWKUWQHVHPGHMC-JDBSGULFNA-N', 'POSMTMUEUFPCEY-UHFFFAOYNA-N', 'LLAFVXRGNOJWJX-ZYPYEQLONA-O', 'YAWMZEFNZRERCD-LXUPDGMKNA-M', 'WUAGPRSQTJSTRA-QVNRZVRXNA-M', 'DTBNBXWJWCWCIK-HOVPBEAZNA-K']\n"
     ]
    }
   ],
   "source": [
    "not_one_to_one_old = []\n",
    "print(\"InChI Key         \",\"N_new_only\",\"N_old_only\")\n",
    "for key in oldonly_count.keys():\n",
    "    try:\n",
    "        print(key,newonly_count[key],oldonly_count[key])\n",
    "        if newonly_count[key] != oldonly_count[key]:\n",
    "            not_one_to_one_old.append(key)\n",
    "    except KeyError:\n",
    "        print(key,' ',oldonly_count[key])\n",
    "        not_one_to_one_old.append(key)\n",
    "\n",
    "print(not_one_to_one_old)"
   ]
  },
  {
   "cell_type": "markdown",
   "id": "f441a365-3f09-488e-880f-b60af9903c92",
   "metadata": {},
   "source": [
    "Again, most of the conformers eliminated from the old dataset were replaced one-to-one. However, there are several where conformers were simply eliminated."
   ]
  },
  {
   "cell_type": "markdown",
   "id": "21961246-39ce-41fb-87e4-308873ad303c",
   "metadata": {},
   "source": [
    "### Compare the actual conformers that were eliminated\n",
    "Now we are moving to looking at all conformers for a given molecule that was affected by the filter. "
   ]
  },
  {
   "cell_type": "code",
   "execution_count": 88,
   "id": "98e9e82e-2154-48c2-97d2-741e7250c082",
   "metadata": {
    "execution": {
     "iopub.execute_input": "2024-08-16T20:40:40.642706Z",
     "iopub.status.busy": "2024-08-16T20:40:40.640377Z",
     "iopub.status.idle": "2024-08-16T20:40:57.882611Z",
     "shell.execute_reply": "2024-08-16T20:40:57.882137Z",
     "shell.execute_reply.started": "2024-08-16T20:40:40.642607Z"
    }
   },
   "outputs": [],
   "source": [
    "all_entries_oldonly = [entry for entry in sage_220_training.entries['https://api.qcarchive.molssi.org:443/'] if entry.inchi_key in oldonly_count.keys()]\n",
    "all_ds_oldonly = OptimizationResultCollection.parse_obj({'entries':{'https://api.qcarchive.molssi.org:443/':all_entries_oldonly}})\n",
    "all_records_oldonly = all_ds_oldonly.to_records()"
   ]
  },
  {
   "cell_type": "code",
   "execution_count": 98,
   "id": "093e2fe6-39be-42db-bc54-a5313b974247",
   "metadata": {
    "execution": {
     "iopub.execute_input": "2024-08-16T20:45:29.638647Z",
     "iopub.status.busy": "2024-08-16T20:45:29.637791Z",
     "iopub.status.idle": "2024-08-16T20:45:42.956102Z",
     "shell.execute_reply": "2024-08-16T20:45:42.955557Z",
     "shell.execute_reply.started": "2024-08-16T20:45:29.638591Z"
    }
   },
   "outputs": [],
   "source": [
    "all_entries_newonly = [entry for entry in new_conf_filter_training.entries['https://api.qcarchive.molssi.org:443/'] if entry.inchi_key in newonly_count.keys()]\n",
    "all_ds_newonly = OptimizationResultCollection.parse_obj({'entries':{'https://api.qcarchive.molssi.org:443/':all_entries_newonly}})\n",
    "all_records_newonly = all_ds_newonly.to_records()"
   ]
  },
  {
   "cell_type": "code",
   "execution_count": 127,
   "id": "0f063c70-0e1d-4b0d-936b-150ff0cfefcd",
   "metadata": {
    "execution": {
     "iopub.execute_input": "2024-08-16T21:13:18.348502Z",
     "iopub.status.busy": "2024-08-16T21:13:18.347574Z",
     "iopub.status.idle": "2024-08-16T21:13:32.972094Z",
     "shell.execute_reply": "2024-08-16T21:13:32.971662Z",
     "shell.execute_reply.started": "2024-08-16T21:13:18.348428Z"
    }
   },
   "outputs": [],
   "source": [
    "all_entries_oldonly_newds = [entry for entry in new_conf_filter_training.entries['https://api.qcarchive.molssi.org:443/'] if entry.inchi_key in oldonly_count.keys()]\n",
    "all_ds_oldonly_newds = OptimizationResultCollection.parse_obj({'entries':{'https://api.qcarchive.molssi.org:443/':all_entries_oldonly_newds}})\n",
    "all_records_oldonly_newds = all_ds_oldonly_newds.to_records()"
   ]
  },
  {
   "cell_type": "code",
   "execution_count": 129,
   "id": "def28b0e-3648-4ec4-b021-7778c6ceca26",
   "metadata": {
    "execution": {
     "iopub.execute_input": "2024-08-16T21:14:07.308750Z",
     "iopub.status.busy": "2024-08-16T21:14:07.307461Z",
     "iopub.status.idle": "2024-08-16T21:14:20.569717Z",
     "shell.execute_reply": "2024-08-16T21:14:20.569292Z",
     "shell.execute_reply.started": "2024-08-16T21:14:07.308678Z"
    }
   },
   "outputs": [],
   "source": [
    "all_entries_newonly_oldds = [entry for entry in sage_220_training.entries['https://api.qcarchive.molssi.org:443/'] if entry.inchi_key in newonly_count.keys()]\n",
    "all_ds_newonly_oldds = OptimizationResultCollection.parse_obj({'entries':{'https://api.qcarchive.molssi.org:443/':all_entries_newonly_oldds}})\n",
    "all_records_newonly_oldds = all_ds_newonly_oldds.to_records()"
   ]
  },
  {
   "cell_type": "code",
   "execution_count": 136,
   "id": "e2622c7a-992b-40b5-8caa-6fbf58a3fe56",
   "metadata": {
    "execution": {
     "iopub.execute_input": "2024-08-16T21:55:01.452172Z",
     "iopub.status.busy": "2024-08-16T21:55:01.451644Z",
     "iopub.status.idle": "2024-08-16T21:55:01.463845Z",
     "shell.execute_reply": "2024-08-16T21:55:01.462626Z",
     "shell.execute_reply.started": "2024-08-16T21:55:01.452135Z"
    }
   },
   "outputs": [],
   "source": [
    "def group_by_smiles(records,ds):\n",
    "    mol_by_smiles = {}\n",
    "    for record in records:\n",
    "        recordid = record[0].id\n",
    "        ds_entry = [entry for entry in ds.entries['https://api.qcarchive.molssi.org:443/'] if entry.record_id == recordid]\n",
    "        if len(ds_entry) > 1:\n",
    "            print(recordid)\n",
    "        inchi_key = ds_entry[0].inchi_key\n",
    "        # smiles = record[1].to_smiles()\n",
    "        if inchi_key in mol_by_smiles:\n",
    "            mol_by_smiles[inchi_key].add_conformer(record[1].canonical_order_atoms().conformers[0])\n",
    "        else:\n",
    "            mol_by_smiles[inchi_key] = copy.deepcopy(record[1].canonical_order_atoms())\n",
    "    return mol_by_smiles"
   ]
  },
  {
   "cell_type": "code",
   "execution_count": 137,
   "id": "b6fab7bb-6791-4881-85be-9aa48e2e2c5d",
   "metadata": {
    "execution": {
     "iopub.execute_input": "2024-08-16T21:55:01.953644Z",
     "iopub.status.busy": "2024-08-16T21:55:01.953031Z",
     "iopub.status.idle": "2024-08-16T21:55:02.482340Z",
     "shell.execute_reply": "2024-08-16T21:55:02.481937Z",
     "shell.execute_reply.started": "2024-08-16T21:55:01.953601Z"
    }
   },
   "outputs": [],
   "source": [
    "oldonly_mols = group_by_smiles(all_records_oldonly,sage_220_training)\n",
    "newonly_mols = group_by_smiles(all_records_newonly,new_conf_filter_training)"
   ]
  },
  {
   "cell_type": "code",
   "execution_count": 138,
   "id": "08973155-5bc1-42df-bb39-f0db9d9904e3",
   "metadata": {
    "execution": {
     "iopub.execute_input": "2024-08-16T21:55:03.167781Z",
     "iopub.status.busy": "2024-08-16T21:55:03.166794Z",
     "iopub.status.idle": "2024-08-16T21:55:03.676062Z",
     "shell.execute_reply": "2024-08-16T21:55:03.675596Z",
     "shell.execute_reply.started": "2024-08-16T21:55:03.167737Z"
    }
   },
   "outputs": [],
   "source": [
    "oldonly_mols_newds = group_by_smiles(all_records_oldonly_newds,new_conf_filter_training)\n",
    "newonly_mols_oldds = group_by_smiles(all_records_newonly_oldds,sage_220_training)"
   ]
  },
  {
   "cell_type": "code",
   "execution_count": 141,
   "id": "373723b7-b463-4d2e-989c-bb2556c53108",
   "metadata": {
    "execution": {
     "iopub.execute_input": "2024-08-16T22:02:31.492554Z",
     "iopub.status.busy": "2024-08-16T22:02:31.490461Z",
     "iopub.status.idle": "2024-08-16T22:02:31.503814Z",
     "shell.execute_reply": "2024-08-16T22:02:31.503025Z",
     "shell.execute_reply.started": "2024-08-16T22:02:31.492476Z"
    }
   },
   "outputs": [
    {
     "data": {
      "text/plain": [
       "22"
      ]
     },
     "execution_count": 141,
     "metadata": {},
     "output_type": "execute_result"
    }
   ],
   "source": [
    "len(oldonly_mols.keys())"
   ]
  },
  {
   "cell_type": "code",
   "execution_count": 142,
   "id": "ea0e1cb8-1d9b-421e-869d-b02ee3d37ff7",
   "metadata": {
    "execution": {
     "iopub.execute_input": "2024-08-16T22:06:53.215237Z",
     "iopub.status.busy": "2024-08-16T22:06:53.214046Z",
     "iopub.status.idle": "2024-08-16T22:06:53.225986Z",
     "shell.execute_reply": "2024-08-16T22:06:53.225022Z",
     "shell.execute_reply.started": "2024-08-16T22:06:53.215167Z"
    }
   },
   "outputs": [
    {
     "data": {
      "text/plain": [
       "17"
      ]
     },
     "execution_count": 142,
     "metadata": {},
     "output_type": "execute_result"
    }
   ],
   "source": [
    "len(newonly_mols.keys())"
   ]
  },
  {
   "cell_type": "code",
   "execution_count": 159,
   "id": "0dfa1461-dbe7-417d-936b-ef1b0e64c720",
   "metadata": {
    "execution": {
     "iopub.execute_input": "2024-08-16T22:58:13.542859Z",
     "iopub.status.busy": "2024-08-16T22:58:13.542079Z",
     "iopub.status.idle": "2024-08-16T22:58:14.067763Z",
     "shell.execute_reply": "2024-08-16T22:58:14.067348Z",
     "shell.execute_reply.started": "2024-08-16T22:58:13.542815Z"
    }
   },
   "outputs": [
    {
     "name": "stdout",
     "output_type": "stream",
     "text": [
      "ZJDLOWSPIJMQJM-BNFYLZJQNA-N 3\n",
      "RMSD using old filter:\n",
      " [[0.         1.00344944 0.51304605]\n",
      " [1.00344944 0.         0.84025119]\n",
      " [0.51304605 0.84025119 0.        ]]\n",
      "RMSD using new filter:\n",
      " [[0.         1.0034503  0.51311006]\n",
      " [1.0034503  0.         0.84026739]\n",
      " [0.51311006 0.84026739 0.        ]]\n",
      "Difference in RMSD:\n",
      " [[ 0.00000000e+00 -8.59445207e-07 -6.40053116e-05]\n",
      " [-8.59445207e-07  0.00000000e+00 -1.61981741e-05]\n",
      " [-6.40053116e-05 -1.61981741e-05  0.00000000e+00]]\n",
      "\n",
      "RORAOHDOEDEVOG-YHMJCDSINA-N 3\n",
      "RMSD using old filter:\n",
      " [[0.         0.5594225  0.60866356]\n",
      " [0.5594225  0.         0.11116209]\n",
      " [0.60866356 0.11116209 0.        ]]\n",
      "RMSD using new filter:\n",
      " [[0.         0.60866356]\n",
      " [0.60866356 0.        ]]\n",
      "\n",
      "BYVJUJZHTZGTGN-FQEVSTJZNA-N 9\n",
      "RMSD using old filter:\n",
      " [[0.         2.44441774 1.84246945 1.34428487 1.76533343 0.99993881\n",
      "  1.70338991 0.99993367 1.56928976]\n",
      " [2.44441774 0.         2.24957308 2.24849774 2.12501382 2.36728218\n",
      "  1.58535561 2.34022321 2.03055905]\n",
      " [1.84246945 2.24957308 0.         2.37284522 0.99095118 2.11816069\n",
      "  1.17704897 2.1608551  1.03720629]\n",
      " [1.34428487 2.24849774 2.37284522 0.         2.57816901 0.9587217\n",
      "  2.13795958 0.66696574 2.19981649]\n",
      " [1.76533343 2.12501382 0.99095118 2.57816901 0.         2.22483583\n",
      "  1.27336116 2.34019565 0.98466161]\n",
      " [0.99993881 2.36728218 2.11816069 0.9587217  2.22483583 0.\n",
      "  1.93523994 0.60551054 1.77980441]\n",
      " [1.70338991 1.58535561 1.17704897 2.13795958 1.27336116 1.93523994\n",
      "  0.         1.90578588 0.81374681]\n",
      " [0.99993367 2.34022321 2.1608551  0.66696574 2.34019565 0.60551054\n",
      "  1.90578588 0.         1.86187303]\n",
      " [1.56928976 2.03055905 1.03720629 2.19981649 0.98466161 1.77980441\n",
      "  0.81374681 1.86187303 0.        ]]\n",
      "RMSD using new filter:\n",
      " [[0.         2.19981649 2.03055905 1.00532183 1.77980441 1.03720629\n",
      "  1.56928976 1.86187303 0.81374681]\n",
      " [2.19981649 0.         2.24849774 2.57457814 0.9587217  2.37284522\n",
      "  1.34428487 0.66696574 2.13795958]\n",
      " [2.03055905 2.24849774 0.         2.16845764 2.36728218 2.24957308\n",
      "  2.44441774 2.34022321 1.58535561]\n",
      " [1.00532183 2.57457814 2.16845764 0.         2.27369479 0.67105315\n",
      "  1.81134456 2.32701418 1.19101377]\n",
      " [1.77980441 0.9587217  2.36728218 2.27369479 0.         2.11816069\n",
      "  0.99993881 0.60551054 1.93523994]\n",
      " [1.03720629 2.37284522 2.24957308 0.67105315 2.11816069 0.\n",
      "  1.84246945 2.1608551  1.17704897]\n",
      " [1.56928976 1.34428487 2.44441774 1.81134456 0.99993881 1.84246945\n",
      "  0.         0.99993367 1.70338991]\n",
      " [1.86187303 0.66696574 2.34022321 2.32701418 0.60551054 2.1608551\n",
      "  0.99993367 0.         1.90578588]\n",
      " [0.81374681 2.13795958 1.58535561 1.19101377 1.93523994 1.17704897\n",
      "  1.70338991 1.90578588 0.        ]]\n",
      "Difference in RMSD:\n",
      " [[ 0.00000000e+00  2.44601243e-01 -1.88089605e-01  3.38963042e-01\n",
      "  -1.44709816e-02 -3.72674781e-02  1.34100160e-01 -8.61939360e-01\n",
      "   7.55542950e-01]\n",
      " [ 2.44601243e-01  0.00000000e+00  1.07534634e-03 -3.26080399e-01\n",
      "   1.16629212e+00 -5.56303729e-03  2.41070735e-01  1.67325747e+00\n",
      "  -1.07400522e-01]\n",
      " [-1.88089605e-01  1.07534634e-03  0.00000000e+00  2.04387577e-01\n",
      "  -1.37633101e+00 -1.31412391e-01 -1.26736876e+00 -1.79368117e-01\n",
      "  -5.48149321e-01]\n",
      " [ 3.38963042e-01 -3.26080399e-01  2.04387577e-01  0.00000000e+00\n",
      "   3.04474220e-01  2.87668558e-01  3.26615019e-01 -1.66004844e+00\n",
      "   1.00880272e+00]\n",
      " [-1.44709816e-02  1.16629212e+00 -1.37633101e+00  3.04474220e-01\n",
      "   0.00000000e+00  1.06675143e-01  2.73422354e-01  1.73468511e+00\n",
      "  -9.50578323e-01]\n",
      " [-3.72674781e-02 -5.56303729e-03 -1.31412391e-01  2.87668558e-01\n",
      "   1.06675143e-01  0.00000000e+00  9.27704878e-02 -1.55534456e+00\n",
      "   6.02755442e-01]\n",
      " [ 1.34100160e-01  2.41070735e-01 -1.26736876e+00  3.26615019e-01\n",
      "   2.73422354e-01  9.27704878e-02  0.00000000e+00  9.05852217e-01\n",
      "  -8.89643110e-01]\n",
      " [-8.61939360e-01  1.67325747e+00 -1.79368117e-01 -1.66004844e+00\n",
      "   1.73468511e+00 -1.55534456e+00  9.05852217e-01  0.00000000e+00\n",
      "  -4.39128573e-02]\n",
      " [ 7.55542950e-01 -1.07400522e-01 -5.48149321e-01  1.00880272e+00\n",
      "  -9.50578323e-01  6.02755442e-01 -8.89643110e-01 -4.39128573e-02\n",
      "   0.00000000e+00]]\n",
      "\n",
      "NRCMARGFTNIBSO-VKIPPBGRNA-O 1\n",
      "RMSD using old filter:\n",
      " [[0.]]\n",
      "RMSD using new filter:\n",
      " [[0.]]\n",
      "RMSD between old and new conformer:\n",
      "0.0001474260911627172\n",
      "\n",
      "YODRUDCHYZANJP-AALBHGGMNA-O 2\n",
      "RMSD using old filter:\n",
      " [[0.         1.08600394]\n",
      " [1.08600394 0.        ]]\n",
      "RMSD using new filter:\n",
      " [[0.         1.08511053]\n",
      " [1.08511053 0.        ]]\n",
      "Difference in RMSD:\n",
      " [[0.         0.00089341]\n",
      " [0.00089341 0.        ]]\n",
      "\n",
      "RUDPKBHKOYCBOZ-NFCFVMPONA-O 1\n",
      "RMSD using old filter:\n",
      " [[0.]]\n",
      "RMSD using new filter:\n",
      " [[0.]]\n",
      "RMSD between old and new conformer:\n",
      "5.0993332499024385e-05\n",
      "\n",
      "NPJQGNNJTZLKLZ-FMKRZOJSNA-O 1\n",
      "RMSD using old filter:\n",
      " [[0.]]\n",
      "RMSD using new filter:\n",
      " [[0.]]\n",
      "RMSD between old and new conformer:\n",
      "0.00010550273241097956\n",
      "\n",
      "ZSLXFKRTLKLABA-OKQXLLATNA-O 1\n",
      "RMSD using old filter:\n",
      " [[0.]]\n",
      "RMSD using new filter:\n",
      " [[0.]]\n",
      "RMSD between old and new conformer:\n",
      "6.26356230049689e-05\n",
      "\n",
      "VNUAECPUJCVSCB-OGAHYVOVNA-O 3\n",
      "RMSD using old filter:\n",
      " [[0.         1.51107346 1.4595714 ]\n",
      " [1.51107346 0.         1.9782925 ]\n",
      " [1.4595714  1.9782925  0.        ]]\n",
      "RMSD using new filter:\n",
      " [[0.         1.51117472 1.45954544]\n",
      " [1.51117472 0.         1.9782925 ]\n",
      " [1.45954544 1.9782925  0.        ]]\n",
      "Difference in RMSD:\n",
      " [[ 0.00000000e+00 -1.01266095e-04  2.59595675e-05]\n",
      " [-1.01266095e-04  0.00000000e+00  0.00000000e+00]\n",
      " [ 2.59595675e-05  0.00000000e+00  0.00000000e+00]]\n",
      "\n",
      "QCBGJJZMXOJPCW-XZPUMGFXNA-O 1\n",
      "RMSD using old filter:\n",
      " [[0.]]\n",
      "RMSD using new filter:\n",
      " [[0.]]\n",
      "RMSD between old and new conformer:\n",
      "0.00037000818611494644\n",
      "\n",
      "YNNRNTJQNSRSRK-SLGYIQEMNA-O 1\n",
      "RMSD using old filter:\n",
      " [[0.]]\n",
      "RMSD using new filter:\n",
      " [[0.]]\n",
      "RMSD between old and new conformer:\n",
      "2.9327821555428575e-05\n",
      "\n",
      "VGUQKHDURAWPMZ-JXXMBTQSNA-O 3\n",
      "RMSD using old filter:\n",
      " [[0.         0.93713087 0.80127507]\n",
      " [0.93713087 0.         0.9451613 ]\n",
      " [0.80127507 0.9451613  0.        ]]\n",
      "RMSD using new filter:\n",
      " [[0.         0.93763512 0.80108202]\n",
      " [0.93763512 0.         0.9451613 ]\n",
      " [0.80108202 0.9451613  0.        ]]\n",
      "Difference in RMSD:\n",
      " [[ 0.         -0.00050425  0.00019305]\n",
      " [-0.00050425  0.          0.        ]\n",
      " [ 0.00019305  0.          0.        ]]\n",
      "\n",
      "CKKHYAWIHLCINY-GOHCHAOUNA-M 12\n",
      "RMSD using old filter:\n",
      " [[0.         2.61488716 2.10607542 2.07283816 1.96087674 1.67742808\n",
      "  1.73810842 1.85771971 2.34227438 1.99235526 1.84987087 2.12630388]\n",
      " [2.61488716 0.         2.13984363 1.61696839 2.25045212 1.96468274\n",
      "  2.41294326 1.82414457 1.86448639 1.60905582 2.3786668  1.4908102 ]\n",
      " [2.10607542 2.13984363 0.         2.80071725 1.50273585 2.73518254\n",
      "  1.36886877 2.61194229 1.04534185 2.72832385 1.19818939 2.77343964]\n",
      " [2.07283816 1.61696839 2.80071725 0.         2.87223295 1.76740452\n",
      "  2.82890754 1.1448953  2.62064368 1.42974758 2.78555641 0.61078682]\n",
      " [1.96087674 2.25045212 1.50273585 2.87223295 0.         2.69240982\n",
      "  1.12042171 2.89912168 1.30781355 2.57344081 0.91112079 2.86407195]\n",
      " [1.67742808 1.96468274 2.73518254 1.76740452 2.69240982 0.\n",
      "  2.58601348 1.39543998 2.76727362 1.11587107 2.59532911 1.7380004 ]\n",
      " [1.73810842 2.41294326 1.36886877 2.82890754 1.12042171 2.58601348\n",
      "  0.         2.90965798 1.64677296 2.78096301 0.66184909 2.81360751]\n",
      " [1.85771971 1.82414457 2.61194229 1.1448953  2.89912168 1.39543998\n",
      "  2.90965798 0.         2.71879653 1.6043851  2.84516661 1.00679426]\n",
      " [2.34227438 1.86448639 1.04534185 2.62064368 1.30781355 2.76727362\n",
      "  1.64677296 2.71879653 0.         2.84352577 1.5983742  2.5407797 ]\n",
      " [1.99235526 1.60905582 2.72832385 1.42974758 2.57344081 1.11587107\n",
      "  2.78096301 1.6043851  2.84352577 0.         2.71792963 1.30266228]\n",
      " [1.84987087 2.3786668  1.19818939 2.78555641 0.91112079 2.59532911\n",
      "  0.66184909 2.84516661 1.5983742  2.71792963 0.         2.79252874]\n",
      " [2.12630388 1.4908102  2.77343964 0.61078682 2.86407195 1.7380004\n",
      "  2.81360751 1.00679426 2.5407797  1.30266228 2.79252874 0.        ]]\n",
      "RMSD using new filter:\n",
      " [[0.         2.61638016 2.32408741 1.96147009 1.80747869 1.80864145\n",
      "  1.923636   2.1284763  2.07412676 1.70440971 1.81131355 2.08501332]\n",
      " [2.61638016 0.         1.96458188 1.68770959 2.42322928 1.91087974\n",
      "  2.28128662 1.49064482 2.15903452 1.95416902 2.41033042 1.59435032]\n",
      " [2.32408741 1.96458188 0.         2.84352577 1.64677296 2.71879653\n",
      "  1.30781355 2.62064368 1.04534185 2.81439704 1.5983742  2.5407797 ]\n",
      " [1.96147009 1.68770959 2.84352577 0.         2.78096301 1.6043851\n",
      "  2.57344081 1.42974758 2.72832385 1.14625577 2.71792963 1.30266228]\n",
      " [1.80747869 2.42322928 1.64677296 2.78096301 0.         2.90965798\n",
      "  1.12042171 2.82890754 1.36886877 2.54109982 0.66184909 2.81360751]\n",
      " [1.80864145 1.91087974 2.71879653 1.6043851  2.90965798 0.\n",
      "  2.89912168 1.1448953  2.61194229 1.45676559 2.84516661 1.00679426]\n",
      " [1.923636   2.28128662 1.30781355 2.57344081 1.12042171 2.89912168\n",
      "  0.         2.87223295 1.50273585 2.71352272 0.91112079 2.86407195]\n",
      " [2.1284763  1.49064482 2.62064368 1.42974758 2.82890754 1.1448953\n",
      "  2.87223295 0.         2.80071725 1.7228817  2.78555641 0.61078682]\n",
      " [2.07412676 2.15903452 1.04534185 2.72832385 1.36886877 2.61194229\n",
      "  1.50273585 2.80071725 0.         2.75501464 1.19818939 2.77343964]\n",
      " [1.70440971 1.95416902 2.81439704 1.14625577 2.54109982 1.45676559\n",
      "  2.71352272 1.7228817  2.75501464 0.         2.61588339 1.76550123]\n",
      " [1.81131355 2.41033042 1.5983742  2.71792963 0.66184909 2.84516661\n",
      "  0.91112079 2.78555641 1.19818939 2.61588339 0.         2.79252874]\n",
      " [2.08501332 1.59435032 2.5407797  1.30266228 2.81360751 1.00679426\n",
      "  2.86407195 0.61078682 2.77343964 1.76550123 2.79252874 0.        ]]\n",
      "Difference in RMSD:\n",
      " [[ 0.00000000e+00 -1.49300485e-03 -2.18011996e-01  1.11368069e-01\n",
      "   1.53398054e-01 -1.31213375e-01 -1.85527582e-01 -2.70756590e-01\n",
      "   2.68147623e-01  2.87945548e-01  3.85573202e-02  4.12905546e-02]\n",
      " [-1.49300485e-03  0.00000000e+00  1.75261746e-01 -7.07412048e-02\n",
      "  -1.72777155e-01  5.38030034e-02  1.31656639e-01  3.33499755e-01\n",
      "  -2.94548126e-01 -3.45113203e-01 -3.16636126e-02 -1.03540122e-01]\n",
      " [-2.18011996e-01  1.75261746e-01  0.00000000e+00 -4.28085206e-02\n",
      "  -1.44037106e-01  1.63860103e-02  6.10552220e-02 -8.70139579e-03\n",
      "  -4.18998169e-13 -8.60731868e-02 -4.00184809e-01  2.32659934e-01]\n",
      " [ 1.11368069e-01 -7.07412048e-02 -4.28085206e-02  0.00000000e+00\n",
      "   9.12699464e-02  1.63019421e-01  2.55466725e-01 -2.84852280e-01\n",
      "  -1.07680163e-01  2.83491815e-01  6.76267773e-02 -6.91875458e-01]\n",
      " [ 1.53398054e-01 -1.72777155e-01 -1.44037106e-01  9.12699464e-02\n",
      "   0.00000000e+00 -2.17248163e-01  0.00000000e+00  7.02141429e-02\n",
      "  -6.10552220e-02  3.23409975e-02  2.49271695e-01  5.04644410e-02]\n",
      " [-1.31213375e-01  5.38030034e-02  1.63860103e-02  1.63019421e-01\n",
      "  -2.17248163e-01  0.00000000e+00 -3.13108202e-01  2.50544672e-01\n",
      "   1.55331335e-01 -3.40894525e-01 -2.49837497e-01  7.31206139e-01]\n",
      " [-1.85527582e-01  1.31656639e-01  6.10552220e-02  2.55466725e-01\n",
      "   0.00000000e+00 -3.13108202e-01  0.00000000e+00  3.74250319e-02\n",
      "   1.44037106e-01  6.74402860e-02 -2.49271695e-01 -5.04644410e-02]\n",
      " [-2.70756590e-01  3.33499755e-01 -8.70139579e-03 -2.84852280e-01\n",
      "   7.02141429e-02  2.50544672e-01  3.74250319e-02  0.00000000e+00\n",
      "  -8.19207206e-02 -1.18496608e-01  5.96102041e-02  3.96007442e-01]\n",
      " [ 2.68147623e-01 -2.94548126e-01 -4.18998169e-13 -1.07680163e-01\n",
      "  -6.10552220e-02  1.55331335e-01  1.44037106e-01 -8.19207206e-02\n",
      "   0.00000000e+00  8.85111253e-02  4.00184809e-01 -2.32659934e-01]\n",
      " [ 2.87945548e-01 -3.45113203e-01 -8.60731868e-02  2.83491815e-01\n",
      "   3.23409975e-02 -3.40894525e-01  6.74402860e-02 -1.18496608e-01\n",
      "   8.85111253e-02  0.00000000e+00  1.02046238e-01 -4.62838947e-01]\n",
      " [ 3.85573202e-02 -3.16636126e-02 -4.00184809e-01  6.76267773e-02\n",
      "   2.49271695e-01 -2.49837497e-01 -2.49271695e-01  5.96102041e-02\n",
      "   4.00184809e-01  1.02046238e-01  0.00000000e+00  0.00000000e+00]\n",
      " [ 4.12905546e-02 -1.03540122e-01  2.32659934e-01 -6.91875458e-01\n",
      "   5.04644410e-02  7.31206139e-01 -5.04644410e-02  3.96007442e-01\n",
      "  -2.32659934e-01 -4.62838947e-01  0.00000000e+00  0.00000000e+00]]\n",
      "\n",
      "IWKUWQHVHPGHMC-JDBSGULFNA-N 4\n",
      "RMSD using old filter:\n",
      " [[0.         2.0359773  0.04711509 2.00589999]\n",
      " [2.0359773  0.         2.06076145 0.05154587]\n",
      " [0.04711509 2.06076145 0.         2.03106422]\n",
      " [2.00589999 0.05154587 2.03106422 0.        ]]\n",
      "RMSD using new filter:\n",
      " [[0.        2.0359773]\n",
      " [2.0359773 0.       ]]\n",
      "\n",
      "HYHIWEFQQYVADT-FZOZFQFYNA-N 2\n",
      "RMSD using old filter:\n",
      " [[0.         0.76598799]\n",
      " [0.76598799 0.        ]]\n",
      "RMSD using new filter:\n",
      " [[0.         0.76454436]\n",
      " [0.76454436 0.        ]]\n",
      "Difference in RMSD:\n",
      " [[0.         0.00144363]\n",
      " [0.00144363 0.        ]]\n",
      "\n",
      "HYHIWEFQQYVADT-ZQIFOIARNA-M 1\n",
      "RMSD using old filter:\n",
      " [[0.]]\n",
      "RMSD using new filter:\n",
      " [[0.]]\n",
      "RMSD between old and new conformer:\n",
      "0.008315849939597914\n",
      "\n",
      "POSMTMUEUFPCEY-UHFFFAOYNA-N 5\n",
      "RMSD using old filter:\n",
      " [[0.         1.3837354  1.11974463 0.77791029 0.62860052]\n",
      " [1.3837354  0.         0.9686718  1.24132158 1.20786373]\n",
      " [1.11974463 0.9686718  0.         1.26227385 1.2467798 ]\n",
      " [0.77791029 1.24132158 1.26227385 0.         0.79659264]\n",
      " [0.62860052 1.20786373 1.2467798  0.79659264 0.        ]]\n",
      "RMSD using new filter:\n",
      " [[0.         1.3837354  0.82404933 1.22693353 0.77791029 1.11974463]\n",
      " [1.3837354  0.         1.27388459 0.82640193 1.24132158 0.9686718 ]\n",
      " [0.82404933 1.27388459 0.         1.38269522 0.97030478 1.23864307]\n",
      " [1.22693353 0.82640193 1.38269522 0.         1.11887231 0.77721968]\n",
      " [0.77791029 1.24132158 0.97030478 1.11887231 0.         1.26227385]\n",
      " [1.11974463 0.9686718  1.23864307 0.77721968 1.26227385 0.        ]]\n",
      "\n",
      "LLAFVXRGNOJWJX-ZYPYEQLONA-O 2\n",
      "RMSD using old filter:\n",
      " [[0.         1.19872324]\n",
      " [1.19872324 0.        ]]\n",
      "Not in new dataset\n",
      "\n",
      "YAWMZEFNZRERCD-LXUPDGMKNA-M 7\n",
      "RMSD using old filter:\n",
      " [[0.         2.28976941 1.8530422  1.57970719 1.71891865 1.73752059\n",
      "  1.90199642]\n",
      " [2.28976941 0.         1.90161754 1.75388938 1.59330116 1.09970181\n",
      "  1.48481884]\n",
      " [1.8530422  1.90161754 0.         1.73783083 1.16879162 1.57962205\n",
      "  1.09422556]\n",
      " [1.57970719 1.75388938 1.73783083 0.         2.22181202 2.10603896\n",
      "  2.14207615]\n",
      " [1.71891865 1.59330116 1.16879162 2.22181202 0.         1.87936797\n",
      "  0.74102641]\n",
      " [1.73752059 1.09970181 1.57962205 2.10603896 1.87936797 0.\n",
      "  1.40394146]\n",
      " [1.90199642 1.48481884 1.09422556 2.14207615 0.74102641 1.40394146\n",
      "  0.        ]]\n",
      "Not in new dataset\n",
      "\n",
      "BMAMZZAGBSHIHM-XGRDREAVNA-O 6\n",
      "RMSD using old filter:\n",
      " [[0.         1.58266772 1.45507043 0.86227238 1.32501792 0.89907329]\n",
      " [1.58266772 0.         0.90792318 1.46781972 0.54185389 1.31072355]\n",
      " [1.45507043 0.90792318 0.         1.0424756  1.0085559  1.09390175]\n",
      " [0.86227238 1.46781972 1.0424756  0.         1.3709907  0.53097062]\n",
      " [1.32501792 0.54185389 1.0085559  1.3709907  0.         1.23448639]\n",
      " [0.89907329 1.31072355 1.09390175 0.53097062 1.23448639 0.        ]]\n",
      "RMSD using new filter:\n",
      " [[0.         1.58266772 1.45507043 0.86227238 1.32521201 0.89907329]\n",
      " [1.58266772 0.         0.90792318 1.46781972 0.541909   1.31072355]\n",
      " [1.45507043 0.90792318 0.         1.0424756  1.00847174 1.09390175]\n",
      " [0.86227238 1.46781972 1.0424756  0.         1.37095599 0.53097062]\n",
      " [1.32521201 0.541909   1.00847174 1.37095599 0.         1.23443102]\n",
      " [0.89907329 1.31072355 1.09390175 0.53097062 1.23443102 0.        ]]\n",
      "Difference in RMSD:\n",
      " [[ 0.00000000e+00  0.00000000e+00  0.00000000e+00  0.00000000e+00\n",
      "  -1.94089751e-04  9.65894031e-15]\n",
      " [ 0.00000000e+00  0.00000000e+00  0.00000000e+00  0.00000000e+00\n",
      "  -5.51144290e-05 -1.77635684e-15]\n",
      " [ 0.00000000e+00  0.00000000e+00  0.00000000e+00  0.00000000e+00\n",
      "   8.41601648e-05  1.79856130e-14]\n",
      " [ 0.00000000e+00  0.00000000e+00  0.00000000e+00  0.00000000e+00\n",
      "   3.47098426e-05  2.33146835e-14]\n",
      " [-1.94089751e-04 -5.51144290e-05  8.41601648e-05  3.47098426e-05\n",
      "   0.00000000e+00  5.53670775e-05]\n",
      " [ 9.65894031e-15 -1.77635684e-15  1.79856130e-14  2.33146835e-14\n",
      "   5.53670775e-05  0.00000000e+00]]\n",
      "\n",
      "WUAGPRSQTJSTRA-QVNRZVRXNA-M 2\n",
      "RMSD using old filter:\n",
      " [[0.         0.00015141]\n",
      " [0.00015141 0.        ]]\n",
      "RMSD using new filter:\n",
      " [[0.]]\n",
      "\n",
      "DTBNBXWJWCWCIK-HOVPBEAZNA-K 2\n",
      "RMSD using old filter:\n",
      " [[0.         0.00026277]\n",
      " [0.00026277 0.        ]]\n",
      "RMSD using new filter:\n",
      " [[0.]]\n",
      "\n"
     ]
    }
   ],
   "source": [
    "for key in oldonly_mols.keys():\n",
    "    print(key,oldonly_mols[key].n_conformers)\n",
    "    print('RMSD using old filter:\\n',rmsd_rdkit(oldonly_mols[key],True,True))\n",
    "    try:\n",
    "        print('RMSD using new filter:\\n',rmsd_rdkit(oldonly_mols_newds[key],True,True))\n",
    "        if rmsd_rdkit(oldonly_mols[key],True,True).shape == rmsd_rdkit(oldonly_mols_newds[key],True,True).shape and oldonly_mols[key].n_conformers>1:\n",
    "            print('Difference in RMSD:\\n',rmsd_rdkit(oldonly_mols[key],True,True) - rmsd_rdkit(oldonly_mols_newds[key],True,True))\n",
    "        elif oldonly_mols[key].n_conformers == 1 and oldonly_mols[key].n_conformers == oldonly_mols_newds[key].n_conformers:\n",
    "            print('RMSD between old and new conformer:')\n",
    "            new_mol = copy.deepcopy(oldonly_mols[key])\n",
    "            new_mol._conformers += oldonly_mols_newds[key]._conformers\n",
    "            print(rmsd_rdkit(new_mol,True,True)[1,0])\n",
    "    \n",
    "    except KeyError:\n",
    "        print(\"Not in new dataset\")\n",
    "    print()"
   ]
  },
  {
   "cell_type": "markdown",
   "id": "d869775e-96bc-4528-b073-67087dd2e2cd",
   "metadata": {},
   "source": [
    "4 molecules had conformers eliminated due to low RMSD; generally not replaced with a new conformer.\n",
    "\n",
    "2 aren't in new dataset for unclear reasons.\n",
    "\n",
    "7 appear to have randomly (?) chosen a different conformer; each set has only 1 conformer included.\n",
    "\n",
    "1 has more conformers in the new DS, I think because changing the algorithm led to different/more diverse conformers that didn't have duplicates?\n",
    "\n",
    "8 have the same number of conformers but different structures included due to diversity considerations; 2 have large changes in conformer structure (e.g. ~0.1 RMDS), the rest are minor."
   ]
  },
  {
   "cell_type": "code",
   "execution_count": 160,
   "id": "2d6dbdfa-ab65-4fbc-b995-d6ea32565749",
   "metadata": {
    "execution": {
     "iopub.execute_input": "2024-08-16T23:01:46.194324Z",
     "iopub.status.busy": "2024-08-16T23:01:46.193249Z",
     "iopub.status.idle": "2024-08-16T23:01:46.222465Z",
     "shell.execute_reply": "2024-08-16T23:01:46.221865Z",
     "shell.execute_reply.started": "2024-08-16T23:01:46.194239Z"
    }
   },
   "outputs": [
    {
     "name": "stdout",
     "output_type": "stream",
     "text": [
      "OYKYRRBQJOYZBJ-RXMQYKEDNA-N\n",
      "[[0.         0.97107827 0.9622282 ]\n",
      " [0.97107827 0.         0.93439155]\n",
      " [0.9622282  0.93439155 0.        ]]\n",
      "[[0.        0.9622282]\n",
      " [0.9622282 0.       ]]\n",
      "Not in old only keys\n",
      "\n"
     ]
    }
   ],
   "source": [
    "for key in newonly_mols.keys():\n",
    "    if key not in oldonly_mols.keys():\n",
    "        print(key)\n",
    "        print(rmsd_rdkit(newonly_mols[key],True,True))\n",
    "        try:\n",
    "            print(rmsd_rdkit(newonly_mols_oldds[key],True,True))\n",
    "        except KeyError:\n",
    "            print(\"Not in new dataset\")\n",
    "        if key not in oldonly_mols.keys():\n",
    "            print('Not in old only keys')\n",
    "        print()"
   ]
  },
  {
   "cell_type": "markdown",
   "id": "ef11b8c3-b4be-4b08-b759-c1d65ef8f121",
   "metadata": {},
   "source": [
    "Only one molecule that has a change that doesn't appear in the set of conformers that only appear in the old dataset. Not sure why this would have a new conformer added here."
   ]
  },
  {
   "cell_type": "code",
   "execution_count": 149,
   "id": "2542d10c-122e-4679-b815-74668abf5d64",
   "metadata": {
    "execution": {
     "iopub.execute_input": "2024-08-16T22:16:26.683950Z",
     "iopub.status.busy": "2024-08-16T22:16:26.683133Z",
     "iopub.status.idle": "2024-08-16T22:16:26.696137Z",
     "shell.execute_reply": "2024-08-16T22:16:26.695221Z",
     "shell.execute_reply.started": "2024-08-16T22:16:26.683894Z"
    }
   },
   "outputs": [
    {
     "name": "stdout",
     "output_type": "stream",
     "text": [
      "16  keys in common out of  22\n",
      "16  keys in common out of  17\n"
     ]
    }
   ],
   "source": [
    "print(np.count_nonzero(np.isin(list(oldonly_mols.keys()),list(newonly_mols.keys()))),' keys in common out of ',len(list(oldonly_mols.keys())))\n",
    "print(np.count_nonzero(np.isin(list(newonly_mols.keys()),list(oldonly_mols.keys()))),' keys in common out of ',len(list(newonly_mols.keys())))"
   ]
  },
  {
   "cell_type": "markdown",
   "id": "00703e2a-747b-4f25-bea5-8b887de0b874",
   "metadata": {},
   "source": [
    "# Benchmark dataset"
   ]
  },
  {
   "cell_type": "code",
   "execution_count": 21,
   "id": "68b1398d-772f-4ffb-8f95-cc31e0b9fd6f",
   "metadata": {
    "execution": {
     "iopub.execute_input": "2024-08-16T19:29:17.190981Z",
     "iopub.status.busy": "2024-08-16T19:29:17.189084Z",
     "iopub.status.idle": "2024-08-16T19:29:18.727716Z",
     "shell.execute_reply": "2024-08-16T19:29:18.727248Z",
     "shell.execute_reply.started": "2024-08-16T19:29:17.190874Z"
    }
   },
   "outputs": [],
   "source": [
    "sage_220_benchmark = OptimizationResultCollection.parse_file('../sage-2.2.0/05_benchmark_forcefield/datasets/OpenFF-Industry-Benchmark-Season-1-v1.1-filtered-charge-coverage.json')"
   ]
  },
  {
   "cell_type": "code",
   "execution_count": 22,
   "id": "47fa0fd8-31cb-45a1-8ff7-8947514720fc",
   "metadata": {
    "execution": {
     "iopub.execute_input": "2024-08-16T19:29:51.640920Z",
     "iopub.status.busy": "2024-08-16T19:29:51.639370Z",
     "iopub.status.idle": "2024-08-16T19:29:52.340965Z",
     "shell.execute_reply": "2024-08-16T19:29:52.340501Z",
     "shell.execute_reply.started": "2024-08-16T19:29:51.640850Z"
    }
   },
   "outputs": [],
   "source": [
    "benchmark_filter = OptimizationResultCollection.parse_file('./05_benchmark_forcefield/datasets/OpenFF-Industry-Benchmark-Season-1-v1.1-ConfRMSD.json')"
   ]
  },
  {
   "cell_type": "code",
   "execution_count": 23,
   "id": "3ed014dd-f7e8-48a8-9ad8-8baedbcea981",
   "metadata": {
    "execution": {
     "iopub.execute_input": "2024-08-16T19:30:01.544922Z",
     "iopub.status.busy": "2024-08-16T19:30:01.542495Z",
     "iopub.status.idle": "2024-08-16T19:30:01.570179Z",
     "shell.execute_reply": "2024-08-16T19:30:01.569653Z",
     "shell.execute_reply.started": "2024-08-16T19:30:01.544828Z"
    }
   },
   "outputs": [
    {
     "name": "stdout",
     "output_type": "stream",
     "text": [
      "9822 76351\n"
     ]
    }
   ],
   "source": [
    "print(sage_220_benchmark.n_molecules,sage_220_benchmark.n_results)"
   ]
  },
  {
   "cell_type": "code",
   "execution_count": 24,
   "id": "a02f650d-e963-4b26-b407-326e4bdc0cf2",
   "metadata": {
    "execution": {
     "iopub.execute_input": "2024-08-16T19:30:11.993328Z",
     "iopub.status.busy": "2024-08-16T19:30:11.992014Z",
     "iopub.status.idle": "2024-08-16T19:30:12.027255Z",
     "shell.execute_reply": "2024-08-16T19:30:12.026740Z",
     "shell.execute_reply.started": "2024-08-16T19:30:11.993237Z"
    }
   },
   "outputs": [
    {
     "name": "stdout",
     "output_type": "stream",
     "text": [
      "9822 64699\n"
     ]
    }
   ],
   "source": [
    "print(benchmark_filter.n_molecules,benchmark_filter.n_results)"
   ]
  },
  {
   "cell_type": "markdown",
   "id": "16981acb-14c4-4838-b218-f65bc5b71689",
   "metadata": {},
   "source": [
    "About 12,000 conformers eliminated"
   ]
  },
  {
   "cell_type": "code",
   "execution_count": 164,
   "id": "b23a0a90-0661-41f8-abc9-aef3e43fcaad",
   "metadata": {
    "execution": {
     "iopub.execute_input": "2024-08-16T23:11:28.936688Z",
     "iopub.status.busy": "2024-08-16T23:11:28.935095Z",
     "iopub.status.idle": "2024-08-16T23:11:28.956524Z",
     "shell.execute_reply": "2024-08-16T23:11:28.953616Z",
     "shell.execute_reply.started": "2024-08-16T23:11:28.936611Z"
    },
    "scrolled": true
   },
   "outputs": [],
   "source": [
    "qcaids_filter_bm = [entry.record_id for entry in benchmark_filter.entries['https://api.qcarchive.molssi.org:443/']]"
   ]
  },
  {
   "cell_type": "code",
   "execution_count": 165,
   "id": "f6f6df3c-fc25-4349-8aaa-f79dfe6711bf",
   "metadata": {
    "execution": {
     "iopub.execute_input": "2024-08-16T23:11:41.352422Z",
     "iopub.status.busy": "2024-08-16T23:11:41.351647Z",
     "iopub.status.idle": "2024-08-16T23:11:41.400351Z",
     "shell.execute_reply": "2024-08-16T23:11:41.399732Z",
     "shell.execute_reply.started": "2024-08-16T23:11:41.352376Z"
    }
   },
   "outputs": [],
   "source": [
    "qcaids_nofilter_bm = [entry.record_id for entry in sage_220_benchmark.entries['https://api.qcarchive.molssi.org:443/']]"
   ]
  },
  {
   "cell_type": "code",
   "execution_count": 166,
   "id": "43395810-1698-4633-ade5-ea46447922f9",
   "metadata": {
    "execution": {
     "iopub.execute_input": "2024-08-16T23:12:00.867566Z",
     "iopub.status.busy": "2024-08-16T23:12:00.865923Z",
     "iopub.status.idle": "2024-08-16T23:12:00.908220Z",
     "shell.execute_reply": "2024-08-16T23:12:00.907753Z",
     "shell.execute_reply.started": "2024-08-16T23:12:00.867500Z"
    }
   },
   "outputs": [
    {
     "data": {
      "text/plain": [
       "64699"
      ]
     },
     "execution_count": 166,
     "metadata": {},
     "output_type": "execute_result"
    }
   ],
   "source": [
    "qcaids_not_filtered = np.isin(qcaids_nofilter_bm,qcaids_filter_bm)\n",
    "np.count_nonzero(qcaids_not_filtered)"
   ]
  },
  {
   "cell_type": "code",
   "execution_count": 168,
   "id": "5a121d18-0f9f-46c5-be9b-9e11df86ea7a",
   "metadata": {
    "execution": {
     "iopub.execute_input": "2024-08-16T23:14:21.504598Z",
     "iopub.status.busy": "2024-08-16T23:14:21.502786Z",
     "iopub.status.idle": "2024-08-16T23:14:21.517307Z",
     "shell.execute_reply": "2024-08-16T23:14:21.516023Z",
     "shell.execute_reply.started": "2024-08-16T23:14:21.504521Z"
    }
   },
   "outputs": [
    {
     "data": {
      "text/plain": [
       "11652"
      ]
     },
     "execution_count": 168,
     "metadata": {},
     "output_type": "execute_result"
    }
   ],
   "source": [
    "qcaids_filtered_out = np.logical_not(qcaids_not_filtered)\n",
    "np.count_nonzero(qcaids_filtered_out)"
   ]
  },
  {
   "cell_type": "code",
   "execution_count": 169,
   "id": "f306be0f-aba6-4386-8bec-20963313cd10",
   "metadata": {
    "execution": {
     "iopub.execute_input": "2024-08-16T23:16:12.996327Z",
     "iopub.status.busy": "2024-08-16T23:16:12.995512Z",
     "iopub.status.idle": "2024-08-16T23:16:13.019453Z",
     "shell.execute_reply": "2024-08-16T23:16:13.018837Z",
     "shell.execute_reply.started": "2024-08-16T23:16:12.996282Z"
    }
   },
   "outputs": [],
   "source": [
    "qcaids_fo_ids = np.array(qcaids_nofilter_bm)[qcaids_filtered_out]"
   ]
  },
  {
   "cell_type": "code",
   "execution_count": 174,
   "id": "f273643d-942b-44bd-b78e-579aa6c6da20",
   "metadata": {
    "execution": {
     "iopub.execute_input": "2024-08-16T23:18:02.465010Z",
     "iopub.status.busy": "2024-08-16T23:18:02.462724Z",
     "iopub.status.idle": "2024-08-16T23:18:02.983342Z",
     "shell.execute_reply": "2024-08-16T23:18:02.982815Z",
     "shell.execute_reply.started": "2024-08-16T23:18:02.464924Z"
    }
   },
   "outputs": [],
   "source": [
    "inchi_keys_fo = np.unique([entry.inchi_key for entry in sage_220_benchmark.entries['https://api.qcarchive.molssi.org:443/'] if entry.record_id in qcaids_fo_ids])"
   ]
  },
  {
   "cell_type": "code",
   "execution_count": 175,
   "id": "a1d386e9-c7b4-4e4d-8658-1fedb0d35b53",
   "metadata": {
    "execution": {
     "iopub.execute_input": "2024-08-16T23:18:03.533731Z",
     "iopub.status.busy": "2024-08-16T23:18:03.532710Z",
     "iopub.status.idle": "2024-08-16T23:18:03.556809Z",
     "shell.execute_reply": "2024-08-16T23:18:03.555413Z",
     "shell.execute_reply.started": "2024-08-16T23:18:03.533658Z"
    }
   },
   "outputs": [
    {
     "data": {
      "text/plain": [
       "4853"
      ]
     },
     "execution_count": 175,
     "metadata": {},
     "output_type": "execute_result"
    }
   ],
   "source": [
    "len(inchi_keys_fo)"
   ]
  },
  {
   "cell_type": "markdown",
   "id": "b85ca114-1fef-4779-b778-d2f7d39d44bb",
   "metadata": {},
   "source": [
    "almost 5000 affected molecules, out of 10000"
   ]
  },
  {
   "cell_type": "code",
   "execution_count": null,
   "id": "1c9075c1-377b-4f32-b862-0960cdf31b7a",
   "metadata": {},
   "outputs": [],
   "source": []
  }
 ],
 "metadata": {
  "kernelspec": {
   "display_name": "Python 3 (ipykernel)",
   "language": "python",
   "name": "python3"
  },
  "language_info": {
   "codemirror_mode": {
    "name": "ipython",
    "version": 3
   },
   "file_extension": ".py",
   "mimetype": "text/x-python",
   "name": "python",
   "nbconvert_exporter": "python",
   "pygments_lexer": "ipython3",
   "version": "3.10.14"
  }
 },
 "nbformat": 4,
 "nbformat_minor": 5
}
